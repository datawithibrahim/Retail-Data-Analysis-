{
  "nbformat": 4,
  "nbformat_minor": 0,
  "metadata": {
    "colab": {
      "provenance": [],
      "include_colab_link": true
    },
    "kernelspec": {
      "name": "python3",
      "display_name": "Python 3"
    },
    "language_info": {
      "name": "python"
    }
  },
  "cells": [
    {
      "cell_type": "markdown",
      "metadata": {
        "id": "view-in-github",
        "colab_type": "text"
      },
      "source": [
        "<a href=\"https://colab.research.google.com/github/datawithibrahim/Retail-Data-Analysis-/blob/main/retail_data_analysis.ipynb\" target=\"_parent\"><img src=\"https://colab.research.google.com/assets/colab-badge.svg\" alt=\"Open In Colab\"/></a>"
      ]
    },
    {
      "cell_type": "code",
      "execution_count": null,
      "metadata": {
        "colab": {
          "base_uri": "https://localhost:8080/"
        },
        "id": "zrlC1gmeYXyp",
        "outputId": "ac6dcd7b-3a9e-4d4d-92d7-f91217ca53ac"
      },
      "outputs": [
        {
          "output_type": "stream",
          "name": "stdout",
          "text": [
            "Requirement already satisfied: pandas in /usr/local/lib/python3.12/dist-packages (2.2.2)\n",
            "Requirement already satisfied: numpy>=1.26.0 in /usr/local/lib/python3.12/dist-packages (from pandas) (2.0.2)\n",
            "Requirement already satisfied: python-dateutil>=2.8.2 in /usr/local/lib/python3.12/dist-packages (from pandas) (2.9.0.post0)\n",
            "Requirement already satisfied: pytz>=2020.1 in /usr/local/lib/python3.12/dist-packages (from pandas) (2025.2)\n",
            "Requirement already satisfied: tzdata>=2022.7 in /usr/local/lib/python3.12/dist-packages (from pandas) (2025.2)\n",
            "Requirement already satisfied: six>=1.5 in /usr/local/lib/python3.12/dist-packages (from python-dateutil>=2.8.2->pandas) (1.17.0)\n"
          ]
        }
      ],
      "source": [
        "!pip install pandas"
      ]
    },
    {
      "cell_type": "markdown",
      "source": [
        "My main objective of this project  is To analyze retail sales data, map products to categories, and extract actionable insights on consumer purchasing behavior, revenue trends, and product preferences. The goal is to support decision-making for retail and brand customers by providing accurate, high-quality product attribution."
      ],
      "metadata": {
        "id": "ayut3OAZfDkB"
      }
    },
    {
      "cell_type": "markdown",
      "source": [
        "**Tools & Skills Used:**\n",
        "\n",
        "* ython (Pandas, NumPy, Matplotlib, Seaborn)\n",
        "\n",
        "\n",
        "* SQLite (for querying product and sales data)\n",
        "\n",
        "* Data Analysis & Visualization\n",
        "\n",
        "* Product Mapping and Segmentation\n",
        "\n",
        "* Retail Data Interpretation\n",
        "\n",
        "* Key Skills Demonstrated: Attention to Detail, Problem-Solving, SQL, Python"
      ],
      "metadata": {
        "id": "1KsGyoROfeuQ"
      }
    },
    {
      "cell_type": "code",
      "source": [
        "import pandas as pd"
      ],
      "metadata": {
        "id": "VZQmHO3RYaAy"
      },
      "execution_count": null,
      "outputs": []
    },
    {
      "cell_type": "code",
      "source": [
        "import matplotlib.pyplot as plt\n",
        "import seaborn as sns"
      ],
      "metadata": {
        "id": "r1fdVHMYYhBl"
      },
      "execution_count": null,
      "outputs": []
    },
    {
      "cell_type": "code",
      "source": [
        "df = pd.read_csv('/content/customer_shopping_data.csv', parse_dates=['invoice_date'], dayfirst=True)"
      ],
      "metadata": {
        "id": "FjjViC0VY5nU"
      },
      "execution_count": null,
      "outputs": []
    },
    {
      "cell_type": "code",
      "source": [
        "df.head()"
      ],
      "metadata": {
        "colab": {
          "base_uri": "https://localhost:8080/",
          "height": 206
        },
        "id": "7YwuQCtXZA9I",
        "outputId": "341eced9-a877-4636-b6d0-fc9a15aeb806"
      },
      "execution_count": null,
      "outputs": [
        {
          "output_type": "execute_result",
          "data": {
            "text/plain": [
              "  invoice_no customer_id  gender  age  category  quantity    price  \\\n",
              "0    I138884     C241288  Female   28  Clothing         5  1500.40   \n",
              "1    I317333     C111565    Male   21     Shoes         3  1800.51   \n",
              "2    I127801     C266599    Male   20  Clothing         1   300.08   \n",
              "3    I173702     C988172  Female   66     Shoes         5  3000.85   \n",
              "4    I337046     C189076  Female   53     Books         4    60.60   \n",
              "\n",
              "  payment_method invoice_date   shopping_mall  \n",
              "0    Credit Card   2022-08-05          Kanyon  \n",
              "1     Debit Card   2021-12-12  Forum Istanbul  \n",
              "2           Cash   2021-11-09       Metrocity  \n",
              "3    Credit Card   2021-05-16    Metropol AVM  \n",
              "4           Cash   2021-10-24          Kanyon  "
            ],
            "text/html": [
              "\n",
              "  <div id=\"df-a8ec99e8-dcf3-4cf4-9b4c-bb8de3fd5da4\" class=\"colab-df-container\">\n",
              "    <div>\n",
              "<style scoped>\n",
              "    .dataframe tbody tr th:only-of-type {\n",
              "        vertical-align: middle;\n",
              "    }\n",
              "\n",
              "    .dataframe tbody tr th {\n",
              "        vertical-align: top;\n",
              "    }\n",
              "\n",
              "    .dataframe thead th {\n",
              "        text-align: right;\n",
              "    }\n",
              "</style>\n",
              "<table border=\"1\" class=\"dataframe\">\n",
              "  <thead>\n",
              "    <tr style=\"text-align: right;\">\n",
              "      <th></th>\n",
              "      <th>invoice_no</th>\n",
              "      <th>customer_id</th>\n",
              "      <th>gender</th>\n",
              "      <th>age</th>\n",
              "      <th>category</th>\n",
              "      <th>quantity</th>\n",
              "      <th>price</th>\n",
              "      <th>payment_method</th>\n",
              "      <th>invoice_date</th>\n",
              "      <th>shopping_mall</th>\n",
              "    </tr>\n",
              "  </thead>\n",
              "  <tbody>\n",
              "    <tr>\n",
              "      <th>0</th>\n",
              "      <td>I138884</td>\n",
              "      <td>C241288</td>\n",
              "      <td>Female</td>\n",
              "      <td>28</td>\n",
              "      <td>Clothing</td>\n",
              "      <td>5</td>\n",
              "      <td>1500.40</td>\n",
              "      <td>Credit Card</td>\n",
              "      <td>2022-08-05</td>\n",
              "      <td>Kanyon</td>\n",
              "    </tr>\n",
              "    <tr>\n",
              "      <th>1</th>\n",
              "      <td>I317333</td>\n",
              "      <td>C111565</td>\n",
              "      <td>Male</td>\n",
              "      <td>21</td>\n",
              "      <td>Shoes</td>\n",
              "      <td>3</td>\n",
              "      <td>1800.51</td>\n",
              "      <td>Debit Card</td>\n",
              "      <td>2021-12-12</td>\n",
              "      <td>Forum Istanbul</td>\n",
              "    </tr>\n",
              "    <tr>\n",
              "      <th>2</th>\n",
              "      <td>I127801</td>\n",
              "      <td>C266599</td>\n",
              "      <td>Male</td>\n",
              "      <td>20</td>\n",
              "      <td>Clothing</td>\n",
              "      <td>1</td>\n",
              "      <td>300.08</td>\n",
              "      <td>Cash</td>\n",
              "      <td>2021-11-09</td>\n",
              "      <td>Metrocity</td>\n",
              "    </tr>\n",
              "    <tr>\n",
              "      <th>3</th>\n",
              "      <td>I173702</td>\n",
              "      <td>C988172</td>\n",
              "      <td>Female</td>\n",
              "      <td>66</td>\n",
              "      <td>Shoes</td>\n",
              "      <td>5</td>\n",
              "      <td>3000.85</td>\n",
              "      <td>Credit Card</td>\n",
              "      <td>2021-05-16</td>\n",
              "      <td>Metropol AVM</td>\n",
              "    </tr>\n",
              "    <tr>\n",
              "      <th>4</th>\n",
              "      <td>I337046</td>\n",
              "      <td>C189076</td>\n",
              "      <td>Female</td>\n",
              "      <td>53</td>\n",
              "      <td>Books</td>\n",
              "      <td>4</td>\n",
              "      <td>60.60</td>\n",
              "      <td>Cash</td>\n",
              "      <td>2021-10-24</td>\n",
              "      <td>Kanyon</td>\n",
              "    </tr>\n",
              "  </tbody>\n",
              "</table>\n",
              "</div>\n",
              "    <div class=\"colab-df-buttons\">\n",
              "\n",
              "  <div class=\"colab-df-container\">\n",
              "    <button class=\"colab-df-convert\" onclick=\"convertToInteractive('df-a8ec99e8-dcf3-4cf4-9b4c-bb8de3fd5da4')\"\n",
              "            title=\"Convert this dataframe to an interactive table.\"\n",
              "            style=\"display:none;\">\n",
              "\n",
              "  <svg xmlns=\"http://www.w3.org/2000/svg\" height=\"24px\" viewBox=\"0 -960 960 960\">\n",
              "    <path d=\"M120-120v-720h720v720H120Zm60-500h600v-160H180v160Zm220 220h160v-160H400v160Zm0 220h160v-160H400v160ZM180-400h160v-160H180v160Zm440 0h160v-160H620v160ZM180-180h160v-160H180v160Zm440 0h160v-160H620v160Z\"/>\n",
              "  </svg>\n",
              "    </button>\n",
              "\n",
              "  <style>\n",
              "    .colab-df-container {\n",
              "      display:flex;\n",
              "      gap: 12px;\n",
              "    }\n",
              "\n",
              "    .colab-df-convert {\n",
              "      background-color: #E8F0FE;\n",
              "      border: none;\n",
              "      border-radius: 50%;\n",
              "      cursor: pointer;\n",
              "      display: none;\n",
              "      fill: #1967D2;\n",
              "      height: 32px;\n",
              "      padding: 0 0 0 0;\n",
              "      width: 32px;\n",
              "    }\n",
              "\n",
              "    .colab-df-convert:hover {\n",
              "      background-color: #E2EBFA;\n",
              "      box-shadow: 0px 1px 2px rgba(60, 64, 67, 0.3), 0px 1px 3px 1px rgba(60, 64, 67, 0.15);\n",
              "      fill: #174EA6;\n",
              "    }\n",
              "\n",
              "    .colab-df-buttons div {\n",
              "      margin-bottom: 4px;\n",
              "    }\n",
              "\n",
              "    [theme=dark] .colab-df-convert {\n",
              "      background-color: #3B4455;\n",
              "      fill: #D2E3FC;\n",
              "    }\n",
              "\n",
              "    [theme=dark] .colab-df-convert:hover {\n",
              "      background-color: #434B5C;\n",
              "      box-shadow: 0px 1px 3px 1px rgba(0, 0, 0, 0.15);\n",
              "      filter: drop-shadow(0px 1px 2px rgba(0, 0, 0, 0.3));\n",
              "      fill: #FFFFFF;\n",
              "    }\n",
              "  </style>\n",
              "\n",
              "    <script>\n",
              "      const buttonEl =\n",
              "        document.querySelector('#df-a8ec99e8-dcf3-4cf4-9b4c-bb8de3fd5da4 button.colab-df-convert');\n",
              "      buttonEl.style.display =\n",
              "        google.colab.kernel.accessAllowed ? 'block' : 'none';\n",
              "\n",
              "      async function convertToInteractive(key) {\n",
              "        const element = document.querySelector('#df-a8ec99e8-dcf3-4cf4-9b4c-bb8de3fd5da4');\n",
              "        const dataTable =\n",
              "          await google.colab.kernel.invokeFunction('convertToInteractive',\n",
              "                                                    [key], {});\n",
              "        if (!dataTable) return;\n",
              "\n",
              "        const docLinkHtml = 'Like what you see? Visit the ' +\n",
              "          '<a target=\"_blank\" href=https://colab.research.google.com/notebooks/data_table.ipynb>data table notebook</a>'\n",
              "          + ' to learn more about interactive tables.';\n",
              "        element.innerHTML = '';\n",
              "        dataTable['output_type'] = 'display_data';\n",
              "        await google.colab.output.renderOutput(dataTable, element);\n",
              "        const docLink = document.createElement('div');\n",
              "        docLink.innerHTML = docLinkHtml;\n",
              "        element.appendChild(docLink);\n",
              "      }\n",
              "    </script>\n",
              "  </div>\n",
              "\n",
              "\n",
              "    <div id=\"df-942fcd23-4167-40dd-a906-475f2ba61bcf\">\n",
              "      <button class=\"colab-df-quickchart\" onclick=\"quickchart('df-942fcd23-4167-40dd-a906-475f2ba61bcf')\"\n",
              "                title=\"Suggest charts\"\n",
              "                style=\"display:none;\">\n",
              "\n",
              "<svg xmlns=\"http://www.w3.org/2000/svg\" height=\"24px\"viewBox=\"0 0 24 24\"\n",
              "     width=\"24px\">\n",
              "    <g>\n",
              "        <path d=\"M19 3H5c-1.1 0-2 .9-2 2v14c0 1.1.9 2 2 2h14c1.1 0 2-.9 2-2V5c0-1.1-.9-2-2-2zM9 17H7v-7h2v7zm4 0h-2V7h2v10zm4 0h-2v-4h2v4z\"/>\n",
              "    </g>\n",
              "</svg>\n",
              "      </button>\n",
              "\n",
              "<style>\n",
              "  .colab-df-quickchart {\n",
              "      --bg-color: #E8F0FE;\n",
              "      --fill-color: #1967D2;\n",
              "      --hover-bg-color: #E2EBFA;\n",
              "      --hover-fill-color: #174EA6;\n",
              "      --disabled-fill-color: #AAA;\n",
              "      --disabled-bg-color: #DDD;\n",
              "  }\n",
              "\n",
              "  [theme=dark] .colab-df-quickchart {\n",
              "      --bg-color: #3B4455;\n",
              "      --fill-color: #D2E3FC;\n",
              "      --hover-bg-color: #434B5C;\n",
              "      --hover-fill-color: #FFFFFF;\n",
              "      --disabled-bg-color: #3B4455;\n",
              "      --disabled-fill-color: #666;\n",
              "  }\n",
              "\n",
              "  .colab-df-quickchart {\n",
              "    background-color: var(--bg-color);\n",
              "    border: none;\n",
              "    border-radius: 50%;\n",
              "    cursor: pointer;\n",
              "    display: none;\n",
              "    fill: var(--fill-color);\n",
              "    height: 32px;\n",
              "    padding: 0;\n",
              "    width: 32px;\n",
              "  }\n",
              "\n",
              "  .colab-df-quickchart:hover {\n",
              "    background-color: var(--hover-bg-color);\n",
              "    box-shadow: 0 1px 2px rgba(60, 64, 67, 0.3), 0 1px 3px 1px rgba(60, 64, 67, 0.15);\n",
              "    fill: var(--button-hover-fill-color);\n",
              "  }\n",
              "\n",
              "  .colab-df-quickchart-complete:disabled,\n",
              "  .colab-df-quickchart-complete:disabled:hover {\n",
              "    background-color: var(--disabled-bg-color);\n",
              "    fill: var(--disabled-fill-color);\n",
              "    box-shadow: none;\n",
              "  }\n",
              "\n",
              "  .colab-df-spinner {\n",
              "    border: 2px solid var(--fill-color);\n",
              "    border-color: transparent;\n",
              "    border-bottom-color: var(--fill-color);\n",
              "    animation:\n",
              "      spin 1s steps(1) infinite;\n",
              "  }\n",
              "\n",
              "  @keyframes spin {\n",
              "    0% {\n",
              "      border-color: transparent;\n",
              "      border-bottom-color: var(--fill-color);\n",
              "      border-left-color: var(--fill-color);\n",
              "    }\n",
              "    20% {\n",
              "      border-color: transparent;\n",
              "      border-left-color: var(--fill-color);\n",
              "      border-top-color: var(--fill-color);\n",
              "    }\n",
              "    30% {\n",
              "      border-color: transparent;\n",
              "      border-left-color: var(--fill-color);\n",
              "      border-top-color: var(--fill-color);\n",
              "      border-right-color: var(--fill-color);\n",
              "    }\n",
              "    40% {\n",
              "      border-color: transparent;\n",
              "      border-right-color: var(--fill-color);\n",
              "      border-top-color: var(--fill-color);\n",
              "    }\n",
              "    60% {\n",
              "      border-color: transparent;\n",
              "      border-right-color: var(--fill-color);\n",
              "    }\n",
              "    80% {\n",
              "      border-color: transparent;\n",
              "      border-right-color: var(--fill-color);\n",
              "      border-bottom-color: var(--fill-color);\n",
              "    }\n",
              "    90% {\n",
              "      border-color: transparent;\n",
              "      border-bottom-color: var(--fill-color);\n",
              "    }\n",
              "  }\n",
              "</style>\n",
              "\n",
              "      <script>\n",
              "        async function quickchart(key) {\n",
              "          const quickchartButtonEl =\n",
              "            document.querySelector('#' + key + ' button');\n",
              "          quickchartButtonEl.disabled = true;  // To prevent multiple clicks.\n",
              "          quickchartButtonEl.classList.add('colab-df-spinner');\n",
              "          try {\n",
              "            const charts = await google.colab.kernel.invokeFunction(\n",
              "                'suggestCharts', [key], {});\n",
              "          } catch (error) {\n",
              "            console.error('Error during call to suggestCharts:', error);\n",
              "          }\n",
              "          quickchartButtonEl.classList.remove('colab-df-spinner');\n",
              "          quickchartButtonEl.classList.add('colab-df-quickchart-complete');\n",
              "        }\n",
              "        (() => {\n",
              "          let quickchartButtonEl =\n",
              "            document.querySelector('#df-942fcd23-4167-40dd-a906-475f2ba61bcf button');\n",
              "          quickchartButtonEl.style.display =\n",
              "            google.colab.kernel.accessAllowed ? 'block' : 'none';\n",
              "        })();\n",
              "      </script>\n",
              "    </div>\n",
              "\n",
              "    </div>\n",
              "  </div>\n"
            ],
            "application/vnd.google.colaboratory.intrinsic+json": {
              "type": "dataframe",
              "variable_name": "df",
              "summary": "{\n  \"name\": \"df\",\n  \"rows\": 99457,\n  \"fields\": [\n    {\n      \"column\": \"invoice_no\",\n      \"properties\": {\n        \"dtype\": \"string\",\n        \"num_unique_values\": 99457,\n        \"samples\": [\n          \"I704758\",\n          \"I218404\",\n          \"I195516\"\n        ],\n        \"semantic_type\": \"\",\n        \"description\": \"\"\n      }\n    },\n    {\n      \"column\": \"customer_id\",\n      \"properties\": {\n        \"dtype\": \"string\",\n        \"num_unique_values\": 99457,\n        \"samples\": [\n          \"C971218\",\n          \"C949846\",\n          \"C440398\"\n        ],\n        \"semantic_type\": \"\",\n        \"description\": \"\"\n      }\n    },\n    {\n      \"column\": \"gender\",\n      \"properties\": {\n        \"dtype\": \"category\",\n        \"num_unique_values\": 2,\n        \"samples\": [\n          \"Male\",\n          \"Female\"\n        ],\n        \"semantic_type\": \"\",\n        \"description\": \"\"\n      }\n    },\n    {\n      \"column\": \"age\",\n      \"properties\": {\n        \"dtype\": \"number\",\n        \"std\": 14,\n        \"min\": 18,\n        \"max\": 69,\n        \"num_unique_values\": 52,\n        \"samples\": [\n          52,\n          57\n        ],\n        \"semantic_type\": \"\",\n        \"description\": \"\"\n      }\n    },\n    {\n      \"column\": \"category\",\n      \"properties\": {\n        \"dtype\": \"category\",\n        \"num_unique_values\": 8,\n        \"samples\": [\n          \"Shoes\",\n          \"Toys\"\n        ],\n        \"semantic_type\": \"\",\n        \"description\": \"\"\n      }\n    },\n    {\n      \"column\": \"quantity\",\n      \"properties\": {\n        \"dtype\": \"number\",\n        \"std\": 1,\n        \"min\": 1,\n        \"max\": 5,\n        \"num_unique_values\": 5,\n        \"samples\": [\n          3,\n          2\n        ],\n        \"semantic_type\": \"\",\n        \"description\": \"\"\n      }\n    },\n    {\n      \"column\": \"price\",\n      \"properties\": {\n        \"dtype\": \"number\",\n        \"std\": 941.1845672157425,\n        \"min\": 5.23,\n        \"max\": 5250.0,\n        \"num_unique_values\": 40,\n        \"samples\": [\n          121.98,\n          71.68\n        ],\n        \"semantic_type\": \"\",\n        \"description\": \"\"\n      }\n    },\n    {\n      \"column\": \"payment_method\",\n      \"properties\": {\n        \"dtype\": \"category\",\n        \"num_unique_values\": 3,\n        \"samples\": [\n          \"Credit Card\",\n          \"Debit Card\"\n        ],\n        \"semantic_type\": \"\",\n        \"description\": \"\"\n      }\n    },\n    {\n      \"column\": \"invoice_date\",\n      \"properties\": {\n        \"dtype\": \"date\",\n        \"min\": \"2021-01-01 00:00:00\",\n        \"max\": \"2023-03-08 00:00:00\",\n        \"num_unique_values\": 797,\n        \"samples\": [\n          \"2022-07-09 00:00:00\",\n          \"2022-10-14 00:00:00\"\n        ],\n        \"semantic_type\": \"\",\n        \"description\": \"\"\n      }\n    },\n    {\n      \"column\": \"shopping_mall\",\n      \"properties\": {\n        \"dtype\": \"category\",\n        \"num_unique_values\": 10,\n        \"samples\": [\n          \"Viaport Outlet\",\n          \"Forum Istanbul\"\n        ],\n        \"semantic_type\": \"\",\n        \"description\": \"\"\n      }\n    }\n  ]\n}"
            }
          },
          "metadata": {},
          "execution_count": 6
        }
      ]
    },
    {
      "cell_type": "code",
      "source": [
        "df.info()"
      ],
      "metadata": {
        "colab": {
          "base_uri": "https://localhost:8080/"
        },
        "id": "gTvQ63J2ZC4G",
        "outputId": "a9737da0-72ca-4f1a-f150-9699b6cf35ee"
      },
      "execution_count": null,
      "outputs": [
        {
          "output_type": "stream",
          "name": "stdout",
          "text": [
            "<class 'pandas.core.frame.DataFrame'>\n",
            "RangeIndex: 99457 entries, 0 to 99456\n",
            "Data columns (total 10 columns):\n",
            " #   Column          Non-Null Count  Dtype         \n",
            "---  ------          --------------  -----         \n",
            " 0   invoice_no      99457 non-null  object        \n",
            " 1   customer_id     99457 non-null  object        \n",
            " 2   gender          99457 non-null  object        \n",
            " 3   age             99457 non-null  int64         \n",
            " 4   category        99457 non-null  object        \n",
            " 5   quantity        99457 non-null  int64         \n",
            " 6   price           99457 non-null  float64       \n",
            " 7   payment_method  99457 non-null  object        \n",
            " 8   invoice_date    99457 non-null  datetime64[ns]\n",
            " 9   shopping_mall   99457 non-null  object        \n",
            "dtypes: datetime64[ns](1), float64(1), int64(2), object(6)\n",
            "memory usage: 7.6+ MB\n"
          ]
        }
      ]
    },
    {
      "cell_type": "code",
      "source": [
        "df.isna().sum()"
      ],
      "metadata": {
        "colab": {
          "base_uri": "https://localhost:8080/",
          "height": 398
        },
        "id": "yaRggcnGZEwr",
        "outputId": "5a5512b2-c5c4-4a3e-c7b5-57df4391ca93"
      },
      "execution_count": null,
      "outputs": [
        {
          "output_type": "execute_result",
          "data": {
            "text/plain": [
              "invoice_no        0\n",
              "customer_id       0\n",
              "gender            0\n",
              "age               0\n",
              "category          0\n",
              "quantity          0\n",
              "price             0\n",
              "payment_method    0\n",
              "invoice_date      0\n",
              "shopping_mall     0\n",
              "dtype: int64"
            ],
            "text/html": [
              "<div>\n",
              "<style scoped>\n",
              "    .dataframe tbody tr th:only-of-type {\n",
              "        vertical-align: middle;\n",
              "    }\n",
              "\n",
              "    .dataframe tbody tr th {\n",
              "        vertical-align: top;\n",
              "    }\n",
              "\n",
              "    .dataframe thead th {\n",
              "        text-align: right;\n",
              "    }\n",
              "</style>\n",
              "<table border=\"1\" class=\"dataframe\">\n",
              "  <thead>\n",
              "    <tr style=\"text-align: right;\">\n",
              "      <th></th>\n",
              "      <th>0</th>\n",
              "    </tr>\n",
              "  </thead>\n",
              "  <tbody>\n",
              "    <tr>\n",
              "      <th>invoice_no</th>\n",
              "      <td>0</td>\n",
              "    </tr>\n",
              "    <tr>\n",
              "      <th>customer_id</th>\n",
              "      <td>0</td>\n",
              "    </tr>\n",
              "    <tr>\n",
              "      <th>gender</th>\n",
              "      <td>0</td>\n",
              "    </tr>\n",
              "    <tr>\n",
              "      <th>age</th>\n",
              "      <td>0</td>\n",
              "    </tr>\n",
              "    <tr>\n",
              "      <th>category</th>\n",
              "      <td>0</td>\n",
              "    </tr>\n",
              "    <tr>\n",
              "      <th>quantity</th>\n",
              "      <td>0</td>\n",
              "    </tr>\n",
              "    <tr>\n",
              "      <th>price</th>\n",
              "      <td>0</td>\n",
              "    </tr>\n",
              "    <tr>\n",
              "      <th>payment_method</th>\n",
              "      <td>0</td>\n",
              "    </tr>\n",
              "    <tr>\n",
              "      <th>invoice_date</th>\n",
              "      <td>0</td>\n",
              "    </tr>\n",
              "    <tr>\n",
              "      <th>shopping_mall</th>\n",
              "      <td>0</td>\n",
              "    </tr>\n",
              "  </tbody>\n",
              "</table>\n",
              "</div><br><label><b>dtype:</b> int64</label>"
            ]
          },
          "metadata": {},
          "execution_count": 8
        }
      ]
    },
    {
      "cell_type": "code",
      "source": [
        "df['revenue'] = df['quantity'] * df['price']"
      ],
      "metadata": {
        "id": "zNX4mV0wZL0R"
      },
      "execution_count": null,
      "outputs": []
    },
    {
      "cell_type": "code",
      "source": [
        "df.head()"
      ],
      "metadata": {
        "colab": {
          "base_uri": "https://localhost:8080/",
          "height": 206
        },
        "id": "PkMQuV0cZTbp",
        "outputId": "d8539c80-e12c-4589-d94a-3fd04a521bcd"
      },
      "execution_count": null,
      "outputs": [
        {
          "output_type": "execute_result",
          "data": {
            "text/plain": [
              "  invoice_no customer_id  gender  age  category  quantity    price  \\\n",
              "0    I138884     C241288  Female   28  Clothing         5  1500.40   \n",
              "1    I317333     C111565    Male   21     Shoes         3  1800.51   \n",
              "2    I127801     C266599    Male   20  Clothing         1   300.08   \n",
              "3    I173702     C988172  Female   66     Shoes         5  3000.85   \n",
              "4    I337046     C189076  Female   53     Books         4    60.60   \n",
              "\n",
              "  payment_method invoice_date   shopping_mall   revenue  \n",
              "0    Credit Card   2022-08-05          Kanyon   7502.00  \n",
              "1     Debit Card   2021-12-12  Forum Istanbul   5401.53  \n",
              "2           Cash   2021-11-09       Metrocity    300.08  \n",
              "3    Credit Card   2021-05-16    Metropol AVM  15004.25  \n",
              "4           Cash   2021-10-24          Kanyon    242.40  "
            ],
            "text/html": [
              "\n",
              "  <div id=\"df-429e9186-5069-4e88-a24a-2cf6a675d11d\" class=\"colab-df-container\">\n",
              "    <div>\n",
              "<style scoped>\n",
              "    .dataframe tbody tr th:only-of-type {\n",
              "        vertical-align: middle;\n",
              "    }\n",
              "\n",
              "    .dataframe tbody tr th {\n",
              "        vertical-align: top;\n",
              "    }\n",
              "\n",
              "    .dataframe thead th {\n",
              "        text-align: right;\n",
              "    }\n",
              "</style>\n",
              "<table border=\"1\" class=\"dataframe\">\n",
              "  <thead>\n",
              "    <tr style=\"text-align: right;\">\n",
              "      <th></th>\n",
              "      <th>invoice_no</th>\n",
              "      <th>customer_id</th>\n",
              "      <th>gender</th>\n",
              "      <th>age</th>\n",
              "      <th>category</th>\n",
              "      <th>quantity</th>\n",
              "      <th>price</th>\n",
              "      <th>payment_method</th>\n",
              "      <th>invoice_date</th>\n",
              "      <th>shopping_mall</th>\n",
              "      <th>revenue</th>\n",
              "    </tr>\n",
              "  </thead>\n",
              "  <tbody>\n",
              "    <tr>\n",
              "      <th>0</th>\n",
              "      <td>I138884</td>\n",
              "      <td>C241288</td>\n",
              "      <td>Female</td>\n",
              "      <td>28</td>\n",
              "      <td>Clothing</td>\n",
              "      <td>5</td>\n",
              "      <td>1500.40</td>\n",
              "      <td>Credit Card</td>\n",
              "      <td>2022-08-05</td>\n",
              "      <td>Kanyon</td>\n",
              "      <td>7502.00</td>\n",
              "    </tr>\n",
              "    <tr>\n",
              "      <th>1</th>\n",
              "      <td>I317333</td>\n",
              "      <td>C111565</td>\n",
              "      <td>Male</td>\n",
              "      <td>21</td>\n",
              "      <td>Shoes</td>\n",
              "      <td>3</td>\n",
              "      <td>1800.51</td>\n",
              "      <td>Debit Card</td>\n",
              "      <td>2021-12-12</td>\n",
              "      <td>Forum Istanbul</td>\n",
              "      <td>5401.53</td>\n",
              "    </tr>\n",
              "    <tr>\n",
              "      <th>2</th>\n",
              "      <td>I127801</td>\n",
              "      <td>C266599</td>\n",
              "      <td>Male</td>\n",
              "      <td>20</td>\n",
              "      <td>Clothing</td>\n",
              "      <td>1</td>\n",
              "      <td>300.08</td>\n",
              "      <td>Cash</td>\n",
              "      <td>2021-11-09</td>\n",
              "      <td>Metrocity</td>\n",
              "      <td>300.08</td>\n",
              "    </tr>\n",
              "    <tr>\n",
              "      <th>3</th>\n",
              "      <td>I173702</td>\n",
              "      <td>C988172</td>\n",
              "      <td>Female</td>\n",
              "      <td>66</td>\n",
              "      <td>Shoes</td>\n",
              "      <td>5</td>\n",
              "      <td>3000.85</td>\n",
              "      <td>Credit Card</td>\n",
              "      <td>2021-05-16</td>\n",
              "      <td>Metropol AVM</td>\n",
              "      <td>15004.25</td>\n",
              "    </tr>\n",
              "    <tr>\n",
              "      <th>4</th>\n",
              "      <td>I337046</td>\n",
              "      <td>C189076</td>\n",
              "      <td>Female</td>\n",
              "      <td>53</td>\n",
              "      <td>Books</td>\n",
              "      <td>4</td>\n",
              "      <td>60.60</td>\n",
              "      <td>Cash</td>\n",
              "      <td>2021-10-24</td>\n",
              "      <td>Kanyon</td>\n",
              "      <td>242.40</td>\n",
              "    </tr>\n",
              "  </tbody>\n",
              "</table>\n",
              "</div>\n",
              "    <div class=\"colab-df-buttons\">\n",
              "\n",
              "  <div class=\"colab-df-container\">\n",
              "    <button class=\"colab-df-convert\" onclick=\"convertToInteractive('df-429e9186-5069-4e88-a24a-2cf6a675d11d')\"\n",
              "            title=\"Convert this dataframe to an interactive table.\"\n",
              "            style=\"display:none;\">\n",
              "\n",
              "  <svg xmlns=\"http://www.w3.org/2000/svg\" height=\"24px\" viewBox=\"0 -960 960 960\">\n",
              "    <path d=\"M120-120v-720h720v720H120Zm60-500h600v-160H180v160Zm220 220h160v-160H400v160Zm0 220h160v-160H400v160ZM180-400h160v-160H180v160Zm440 0h160v-160H620v160ZM180-180h160v-160H180v160Zm440 0h160v-160H620v160Z\"/>\n",
              "  </svg>\n",
              "    </button>\n",
              "\n",
              "  <style>\n",
              "    .colab-df-container {\n",
              "      display:flex;\n",
              "      gap: 12px;\n",
              "    }\n",
              "\n",
              "    .colab-df-convert {\n",
              "      background-color: #E8F0FE;\n",
              "      border: none;\n",
              "      border-radius: 50%;\n",
              "      cursor: pointer;\n",
              "      display: none;\n",
              "      fill: #1967D2;\n",
              "      height: 32px;\n",
              "      padding: 0 0 0 0;\n",
              "      width: 32px;\n",
              "    }\n",
              "\n",
              "    .colab-df-convert:hover {\n",
              "      background-color: #E2EBFA;\n",
              "      box-shadow: 0px 1px 2px rgba(60, 64, 67, 0.3), 0px 1px 3px 1px rgba(60, 64, 67, 0.15);\n",
              "      fill: #174EA6;\n",
              "    }\n",
              "\n",
              "    .colab-df-buttons div {\n",
              "      margin-bottom: 4px;\n",
              "    }\n",
              "\n",
              "    [theme=dark] .colab-df-convert {\n",
              "      background-color: #3B4455;\n",
              "      fill: #D2E3FC;\n",
              "    }\n",
              "\n",
              "    [theme=dark] .colab-df-convert:hover {\n",
              "      background-color: #434B5C;\n",
              "      box-shadow: 0px 1px 3px 1px rgba(0, 0, 0, 0.15);\n",
              "      filter: drop-shadow(0px 1px 2px rgba(0, 0, 0, 0.3));\n",
              "      fill: #FFFFFF;\n",
              "    }\n",
              "  </style>\n",
              "\n",
              "    <script>\n",
              "      const buttonEl =\n",
              "        document.querySelector('#df-429e9186-5069-4e88-a24a-2cf6a675d11d button.colab-df-convert');\n",
              "      buttonEl.style.display =\n",
              "        google.colab.kernel.accessAllowed ? 'block' : 'none';\n",
              "\n",
              "      async function convertToInteractive(key) {\n",
              "        const element = document.querySelector('#df-429e9186-5069-4e88-a24a-2cf6a675d11d');\n",
              "        const dataTable =\n",
              "          await google.colab.kernel.invokeFunction('convertToInteractive',\n",
              "                                                    [key], {});\n",
              "        if (!dataTable) return;\n",
              "\n",
              "        const docLinkHtml = 'Like what you see? Visit the ' +\n",
              "          '<a target=\"_blank\" href=https://colab.research.google.com/notebooks/data_table.ipynb>data table notebook</a>'\n",
              "          + ' to learn more about interactive tables.';\n",
              "        element.innerHTML = '';\n",
              "        dataTable['output_type'] = 'display_data';\n",
              "        await google.colab.output.renderOutput(dataTable, element);\n",
              "        const docLink = document.createElement('div');\n",
              "        docLink.innerHTML = docLinkHtml;\n",
              "        element.appendChild(docLink);\n",
              "      }\n",
              "    </script>\n",
              "  </div>\n",
              "\n",
              "\n",
              "    <div id=\"df-3d662f7d-f5c4-47fb-87a5-67035cf37b28\">\n",
              "      <button class=\"colab-df-quickchart\" onclick=\"quickchart('df-3d662f7d-f5c4-47fb-87a5-67035cf37b28')\"\n",
              "                title=\"Suggest charts\"\n",
              "                style=\"display:none;\">\n",
              "\n",
              "<svg xmlns=\"http://www.w3.org/2000/svg\" height=\"24px\"viewBox=\"0 0 24 24\"\n",
              "     width=\"24px\">\n",
              "    <g>\n",
              "        <path d=\"M19 3H5c-1.1 0-2 .9-2 2v14c0 1.1.9 2 2 2h14c1.1 0 2-.9 2-2V5c0-1.1-.9-2-2-2zM9 17H7v-7h2v7zm4 0h-2V7h2v10zm4 0h-2v-4h2v4z\"/>\n",
              "    </g>\n",
              "</svg>\n",
              "      </button>\n",
              "\n",
              "<style>\n",
              "  .colab-df-quickchart {\n",
              "      --bg-color: #E8F0FE;\n",
              "      --fill-color: #1967D2;\n",
              "      --hover-bg-color: #E2EBFA;\n",
              "      --hover-fill-color: #174EA6;\n",
              "      --disabled-fill-color: #AAA;\n",
              "      --disabled-bg-color: #DDD;\n",
              "  }\n",
              "\n",
              "  [theme=dark] .colab-df-quickchart {\n",
              "      --bg-color: #3B4455;\n",
              "      --fill-color: #D2E3FC;\n",
              "      --hover-bg-color: #434B5C;\n",
              "      --hover-fill-color: #FFFFFF;\n",
              "      --disabled-bg-color: #3B4455;\n",
              "      --disabled-fill-color: #666;\n",
              "  }\n",
              "\n",
              "  .colab-df-quickchart {\n",
              "    background-color: var(--bg-color);\n",
              "    border: none;\n",
              "    border-radius: 50%;\n",
              "    cursor: pointer;\n",
              "    display: none;\n",
              "    fill: var(--fill-color);\n",
              "    height: 32px;\n",
              "    padding: 0;\n",
              "    width: 32px;\n",
              "  }\n",
              "\n",
              "  .colab-df-quickchart:hover {\n",
              "    background-color: var(--hover-bg-color);\n",
              "    box-shadow: 0 1px 2px rgba(60, 64, 67, 0.3), 0 1px 3px 1px rgba(60, 64, 67, 0.15);\n",
              "    fill: var(--button-hover-fill-color);\n",
              "  }\n",
              "\n",
              "  .colab-df-quickchart-complete:disabled,\n",
              "  .colab-df-quickchart-complete:disabled:hover {\n",
              "    background-color: var(--disabled-bg-color);\n",
              "    fill: var(--disabled-fill-color);\n",
              "    box-shadow: none;\n",
              "  }\n",
              "\n",
              "  .colab-df-spinner {\n",
              "    border: 2px solid var(--fill-color);\n",
              "    border-color: transparent;\n",
              "    border-bottom-color: var(--fill-color);\n",
              "    animation:\n",
              "      spin 1s steps(1) infinite;\n",
              "  }\n",
              "\n",
              "  @keyframes spin {\n",
              "    0% {\n",
              "      border-color: transparent;\n",
              "      border-bottom-color: var(--fill-color);\n",
              "      border-left-color: var(--fill-color);\n",
              "    }\n",
              "    20% {\n",
              "      border-color: transparent;\n",
              "      border-left-color: var(--fill-color);\n",
              "      border-top-color: var(--fill-color);\n",
              "    }\n",
              "    30% {\n",
              "      border-color: transparent;\n",
              "      border-left-color: var(--fill-color);\n",
              "      border-top-color: var(--fill-color);\n",
              "      border-right-color: var(--fill-color);\n",
              "    }\n",
              "    40% {\n",
              "      border-color: transparent;\n",
              "      border-right-color: var(--fill-color);\n",
              "      border-top-color: var(--fill-color);\n",
              "    }\n",
              "    60% {\n",
              "      border-color: transparent;\n",
              "      border-right-color: var(--fill-color);\n",
              "    }\n",
              "    80% {\n",
              "      border-color: transparent;\n",
              "      border-right-color: var(--fill-color);\n",
              "      border-bottom-color: var(--fill-color);\n",
              "    }\n",
              "    90% {\n",
              "      border-color: transparent;\n",
              "      border-bottom-color: var(--fill-color);\n",
              "    }\n",
              "  }\n",
              "</style>\n",
              "\n",
              "      <script>\n",
              "        async function quickchart(key) {\n",
              "          const quickchartButtonEl =\n",
              "            document.querySelector('#' + key + ' button');\n",
              "          quickchartButtonEl.disabled = true;  // To prevent multiple clicks.\n",
              "          quickchartButtonEl.classList.add('colab-df-spinner');\n",
              "          try {\n",
              "            const charts = await google.colab.kernel.invokeFunction(\n",
              "                'suggestCharts', [key], {});\n",
              "          } catch (error) {\n",
              "            console.error('Error during call to suggestCharts:', error);\n",
              "          }\n",
              "          quickchartButtonEl.classList.remove('colab-df-spinner');\n",
              "          quickchartButtonEl.classList.add('colab-df-quickchart-complete');\n",
              "        }\n",
              "        (() => {\n",
              "          let quickchartButtonEl =\n",
              "            document.querySelector('#df-3d662f7d-f5c4-47fb-87a5-67035cf37b28 button');\n",
              "          quickchartButtonEl.style.display =\n",
              "            google.colab.kernel.accessAllowed ? 'block' : 'none';\n",
              "        })();\n",
              "      </script>\n",
              "    </div>\n",
              "\n",
              "    </div>\n",
              "  </div>\n"
            ],
            "application/vnd.google.colaboratory.intrinsic+json": {
              "type": "dataframe",
              "variable_name": "df",
              "summary": "{\n  \"name\": \"df\",\n  \"rows\": 99457,\n  \"fields\": [\n    {\n      \"column\": \"invoice_no\",\n      \"properties\": {\n        \"dtype\": \"string\",\n        \"num_unique_values\": 99457,\n        \"samples\": [\n          \"I704758\",\n          \"I218404\",\n          \"I195516\"\n        ],\n        \"semantic_type\": \"\",\n        \"description\": \"\"\n      }\n    },\n    {\n      \"column\": \"customer_id\",\n      \"properties\": {\n        \"dtype\": \"string\",\n        \"num_unique_values\": 99457,\n        \"samples\": [\n          \"C971218\",\n          \"C949846\",\n          \"C440398\"\n        ],\n        \"semantic_type\": \"\",\n        \"description\": \"\"\n      }\n    },\n    {\n      \"column\": \"gender\",\n      \"properties\": {\n        \"dtype\": \"category\",\n        \"num_unique_values\": 2,\n        \"samples\": [\n          \"Male\",\n          \"Female\"\n        ],\n        \"semantic_type\": \"\",\n        \"description\": \"\"\n      }\n    },\n    {\n      \"column\": \"age\",\n      \"properties\": {\n        \"dtype\": \"number\",\n        \"std\": 14,\n        \"min\": 18,\n        \"max\": 69,\n        \"num_unique_values\": 52,\n        \"samples\": [\n          52,\n          57\n        ],\n        \"semantic_type\": \"\",\n        \"description\": \"\"\n      }\n    },\n    {\n      \"column\": \"category\",\n      \"properties\": {\n        \"dtype\": \"category\",\n        \"num_unique_values\": 8,\n        \"samples\": [\n          \"Shoes\",\n          \"Toys\"\n        ],\n        \"semantic_type\": \"\",\n        \"description\": \"\"\n      }\n    },\n    {\n      \"column\": \"quantity\",\n      \"properties\": {\n        \"dtype\": \"number\",\n        \"std\": 1,\n        \"min\": 1,\n        \"max\": 5,\n        \"num_unique_values\": 5,\n        \"samples\": [\n          3,\n          2\n        ],\n        \"semantic_type\": \"\",\n        \"description\": \"\"\n      }\n    },\n    {\n      \"column\": \"price\",\n      \"properties\": {\n        \"dtype\": \"number\",\n        \"std\": 941.1845672157425,\n        \"min\": 5.23,\n        \"max\": 5250.0,\n        \"num_unique_values\": 40,\n        \"samples\": [\n          121.98,\n          71.68\n        ],\n        \"semantic_type\": \"\",\n        \"description\": \"\"\n      }\n    },\n    {\n      \"column\": \"payment_method\",\n      \"properties\": {\n        \"dtype\": \"category\",\n        \"num_unique_values\": 3,\n        \"samples\": [\n          \"Credit Card\",\n          \"Debit Card\"\n        ],\n        \"semantic_type\": \"\",\n        \"description\": \"\"\n      }\n    },\n    {\n      \"column\": \"invoice_date\",\n      \"properties\": {\n        \"dtype\": \"date\",\n        \"min\": \"2021-01-01 00:00:00\",\n        \"max\": \"2023-03-08 00:00:00\",\n        \"num_unique_values\": 797,\n        \"samples\": [\n          \"2022-07-09 00:00:00\",\n          \"2022-10-14 00:00:00\"\n        ],\n        \"semantic_type\": \"\",\n        \"description\": \"\"\n      }\n    },\n    {\n      \"column\": \"shopping_mall\",\n      \"properties\": {\n        \"dtype\": \"category\",\n        \"num_unique_values\": 10,\n        \"samples\": [\n          \"Viaport Outlet\",\n          \"Forum Istanbul\"\n        ],\n        \"semantic_type\": \"\",\n        \"description\": \"\"\n      }\n    },\n    {\n      \"column\": \"revenue\",\n      \"properties\": {\n        \"dtype\": \"number\",\n        \"std\": 4222.475781045694,\n        \"min\": 5.23,\n        \"max\": 26250.0,\n        \"num_unique_values\": 40,\n        \"samples\": [\n          365.94,\n          143.36\n        ],\n        \"semantic_type\": \"\",\n        \"description\": \"\"\n      }\n    }\n  ]\n}"
            }
          },
          "metadata": {},
          "execution_count": 10
        }
      ]
    },
    {
      "cell_type": "code",
      "source": [
        "df['quantity'] = df['quantity'].astype(int)\n",
        "df['price'] = df['price'].astype(float)"
      ],
      "metadata": {
        "id": "a4w5lZw5Z4RO"
      },
      "execution_count": null,
      "outputs": []
    },
    {
      "cell_type": "code",
      "source": [
        "category_revenue = df.groupby('category')['revenue'].sum().sort_values(ascending=False)\n",
        "print(category_revenue)\n",
        "\n",
        "# in this code first i have displayed the categorywise revenue in the ascending order"
      ],
      "metadata": {
        "colab": {
          "base_uri": "https://localhost:8080/"
        },
        "id": "mMhSHmmOaBQI",
        "outputId": "e255483b-9c71-4d16-b325-8c68cd818880"
      },
      "execution_count": null,
      "outputs": [
        {
          "output_type": "stream",
          "name": "stdout",
          "text": [
            "category\n",
            "Clothing           1.139968e+08\n",
            "Shoes              6.655345e+07\n",
            "Technology         5.786235e+07\n",
            "Cosmetics          6.792863e+06\n",
            "Toys               3.980426e+06\n",
            "Food & Beverage    8.495351e+05\n",
            "Books              8.345529e+05\n",
            "Souvenir           6.358247e+05\n",
            "Name: revenue, dtype: float64\n"
          ]
        }
      ]
    },
    {
      "cell_type": "code",
      "source": [
        "plt.figure(figsize=(8,5))\n",
        "sns.barplot(x=category_revenue.index, y=category_revenue.values, palette=\"viridis\")\n",
        "plt.title('Total Revenue by Category')\n",
        "plt.ylabel('Revenue')\n",
        "plt.xlabel('Category')\n",
        "plt.show()\n",
        "\n",
        "# simple bar plot the categorywise revenue"
      ],
      "metadata": {
        "colab": {
          "base_uri": "https://localhost:8080/",
          "height": 574
        },
        "id": "qBMrZ_quaDkS",
        "outputId": "dbed07a0-ab73-42da-96a2-b0611e800eeb"
      },
      "execution_count": null,
      "outputs": [
        {
          "output_type": "stream",
          "name": "stderr",
          "text": [
            "/tmp/ipython-input-2763277766.py:2: FutureWarning: \n",
            "\n",
            "Passing `palette` without assigning `hue` is deprecated and will be removed in v0.14.0. Assign the `x` variable to `hue` and set `legend=False` for the same effect.\n",
            "\n",
            "  sns.barplot(x=category_revenue.index, y=category_revenue.values, palette=\"viridis\")\n"
          ]
        },
        {
          "output_type": "display_data",
          "data": {
            "text/plain": [
              "<Figure size 800x500 with 1 Axes>"
            ],
            "image/png": "[encoded data removed]"
          },
          "metadata": {}
        }
      ]
    },
    {
      "cell_type": "code",
      "source": [
        "gender_revenue = df.groupby('gender')['revenue'].sum()\n",
        "print(gender_revenue)\n",
        "\n",
        "gender_revenue.plot(kind='pie', autopct='%1.1f%%', figsize=(6,6), startangle=140, colors=['#ff9999','#66b3ff'])\n",
        "plt.title('Revenue by Gender')\n",
        "plt.show()\n"
      ],
      "metadata": {
        "colab": {
          "base_uri": "https://localhost:8080/",
          "height": 590
        },
        "id": "2KYw33s0aKQ2",
        "outputId": "bb282415-512a-4961-abe4-bf5e308d48bd"
      },
      "execution_count": null,
      "outputs": [
        {
          "output_type": "stream",
          "name": "stdout",
          "text": [
            "gender\n",
            "Female    1.502071e+08\n",
            "Male      1.012987e+08\n",
            "Name: revenue, dtype: float64\n"
          ]
        },
        {
          "output_type": "display_data",
          "data": {
            "text/plain": [
              "<Figure size 600x600 with 1 Axes>"
            ],
            "image/png": "[encoded data removed]"
          },
          "metadata": {}
        }
      ]
    },
    {
      "cell_type": "code",
      "source": [
        "mall_revenue = df.groupby('shopping_mall')['revenue'].sum().sort_values(ascending=False)\n",
        "mall_revenue.plot(kind='bar', figsize=(10,5), color='orange')\n",
        "plt.title('Revenue by Shopping Mall')\n",
        "plt.ylabel('Revenue')\n",
        "plt.xlabel('Shopping Mall')\n",
        "plt.show()\n"
      ],
      "metadata": {
        "colab": {
          "base_uri": "https://localhost:8080/",
          "height": 604
        },
        "id": "nfMmcuX3aNwP",
        "outputId": "1cd8c64a-2da0-4df0-eb1d-3b6769ccbfbb"
      },
      "execution_count": null,
      "outputs": [
        {
          "output_type": "display_data",
          "data": {
            "text/plain": [
              "<Figure size 1000x500 with 1 Axes>"
            ],
            "image/png": "[encoded data removed]"
          },
          "metadata": {}
        }
      ]
    },
    {
      "cell_type": "code",
      "source": [
        "df['month'] = df['invoice_date'].dt.to_period('M')\n",
        "monthly_revenue = df.groupby('month')['revenue'].sum()\n",
        "monthly_revenue.plot(kind='line', marker='o', figsize=(12,5))\n",
        "plt.title('Monthly Revenue Trend')\n",
        "plt.ylabel('Revenue')\n",
        "plt.xlabel('Month')\n",
        "plt.grid(True)\n",
        "plt.show()\n",
        "\n",
        "# monthly revenue trends"
      ],
      "metadata": {
        "colab": {
          "base_uri": "https://localhost:8080/",
          "height": 503
        },
        "id": "GDm-ENMUaPXV",
        "outputId": "f3b33e4e-86cb-493c-aab0-a06293a7633c"
      },
      "execution_count": null,
      "outputs": [
        {
          "output_type": "display_data",
          "data": {
            "text/plain": [
              "<Figure size 1200x500 with 1 Axes>"
            ],
            "image/png": "[encoded data removed]"
          },
          "metadata": {}
        }
      ]
    },
    {
      "cell_type": "code",
      "source": [
        "import re\n",
        "\n",
        "def map_subcategory(row):\n",
        "    if row['category'] == 'Clothing':\n",
        "        if re.search(r'tshirt|shirt|top', row['category'], re.IGNORECASE):\n",
        "            return 'Topwear'\n",
        "        elif re.search(r'trousers|jeans|pants', row['category'], re.IGNORECASE):\n",
        "            return 'Bottomwear'\n",
        "    return row['category']\n",
        "\n",
        "df['subcategory'] = df.apply(map_subcategory, axis=1)\n",
        "df.head()\n"
      ],
      "metadata": {
        "colab": {
          "base_uri": "https://localhost:8080/",
          "height": 206
        },
        "id": "a_MFiiB4aVTJ",
        "outputId": "ff6b435e-2ee6-4100-8f5e-8c2066c70267"
      },
      "execution_count": null,
      "outputs": [
        {
          "output_type": "execute_result",
          "data": {
            "text/plain": [
              "  invoice_no customer_id  gender  age  category  quantity    price  \\\n",
              "0    I138884     C241288  Female   28  Clothing         5  1500.40   \n",
              "1    I317333     C111565    Male   21     Shoes         3  1800.51   \n",
              "2    I127801     C266599    Male   20  Clothing         1   300.08   \n",
              "3    I173702     C988172  Female   66     Shoes         5  3000.85   \n",
              "4    I337046     C189076  Female   53     Books         4    60.60   \n",
              "\n",
              "  payment_method invoice_date   shopping_mall   revenue    month subcategory  \n",
              "0    Credit Card   2022-08-05          Kanyon   7502.00  2022-08    Clothing  \n",
              "1     Debit Card   2021-12-12  Forum Istanbul   5401.53  2021-12       Shoes  \n",
              "2           Cash   2021-11-09       Metrocity    300.08  2021-11    Clothing  \n",
              "3    Credit Card   2021-05-16    Metropol AVM  15004.25  2021-05       Shoes  \n",
              "4           Cash   2021-10-24          Kanyon    242.40  2021-10       Books  "
            ],
            "text/html": [
              "\n",
              "  <div id=\"df-f87e04c2-58c4-40a3-96fe-07d95e7be980\" class=\"colab-df-container\">\n",
              "    <div>\n",
              "<style scoped>\n",
              "    .dataframe tbody tr th:only-of-type {\n",
              "        vertical-align: middle;\n",
              "    }\n",
              "\n",
              "    .dataframe tbody tr th {\n",
              "        vertical-align: top;\n",
              "    }\n",
              "\n",
              "    .dataframe thead th {\n",
              "        text-align: right;\n",
              "    }\n",
              "</style>\n",
              "<table border=\"1\" class=\"dataframe\">\n",
              "  <thead>\n",
              "    <tr style=\"text-align: right;\">\n",
              "      <th></th>\n",
              "      <th>invoice_no</th>\n",
              "      <th>customer_id</th>\n",
              "      <th>gender</th>\n",
              "      <th>age</th>\n",
              "      <th>category</th>\n",
              "      <th>quantity</th>\n",
              "      <th>price</th>\n",
              "      <th>payment_method</th>\n",
              "      <th>invoice_date</th>\n",
              "      <th>shopping_mall</th>\n",
              "      <th>revenue</th>\n",
              "      <th>month</th>\n",
              "      <th>subcategory</th>\n",
              "    </tr>\n",
              "  </thead>\n",
              "  <tbody>\n",
              "    <tr>\n",
              "      <th>0</th>\n",
              "      <td>I138884</td>\n",
              "      <td>C241288</td>\n",
              "      <td>Female</td>\n",
              "      <td>28</td>\n",
              "      <td>Clothing</td>\n",
              "      <td>5</td>\n",
              "      <td>1500.40</td>\n",
              "      <td>Credit Card</td>\n",
              "      <td>2022-08-05</td>\n",
              "      <td>Kanyon</td>\n",
              "      <td>7502.00</td>\n",
              "      <td>2022-08</td>\n",
              "      <td>Clothing</td>\n",
              "    </tr>\n",
              "    <tr>\n",
              "      <th>1</th>\n",
              "      <td>I317333</td>\n",
              "      <td>C111565</td>\n",
              "      <td>Male</td>\n",
              "      <td>21</td>\n",
              "      <td>Shoes</td>\n",
              "      <td>3</td>\n",
              "      <td>1800.51</td>\n",
              "      <td>Debit Card</td>\n",
              "      <td>2021-12-12</td>\n",
              "      <td>Forum Istanbul</td>\n",
              "      <td>5401.53</td>\n",
              "      <td>2021-12</td>\n",
              "      <td>Shoes</td>\n",
              "    </tr>\n",
              "    <tr>\n",
              "      <th>2</th>\n",
              "      <td>I127801</td>\n",
              "      <td>C266599</td>\n",
              "      <td>Male</td>\n",
              "      <td>20</td>\n",
              "      <td>Clothing</td>\n",
              "      <td>1</td>\n",
              "      <td>300.08</td>\n",
              "      <td>Cash</td>\n",
              "      <td>2021-11-09</td>\n",
              "      <td>Metrocity</td>\n",
              "      <td>300.08</td>\n",
              "      <td>2021-11</td>\n",
              "      <td>Clothing</td>\n",
              "    </tr>\n",
              "    <tr>\n",
              "      <th>3</th>\n",
              "      <td>I173702</td>\n",
              "      <td>C988172</td>\n",
              "      <td>Female</td>\n",
              "      <td>66</td>\n",
              "      <td>Shoes</td>\n",
              "      <td>5</td>\n",
              "      <td>3000.85</td>\n",
              "      <td>Credit Card</td>\n",
              "      <td>2021-05-16</td>\n",
              "      <td>Metropol AVM</td>\n",
              "      <td>15004.25</td>\n",
              "      <td>2021-05</td>\n",
              "      <td>Shoes</td>\n",
              "    </tr>\n",
              "    <tr>\n",
              "      <th>4</th>\n",
              "      <td>I337046</td>\n",
              "      <td>C189076</td>\n",
              "      <td>Female</td>\n",
              "      <td>53</td>\n",
              "      <td>Books</td>\n",
              "      <td>4</td>\n",
              "      <td>60.60</td>\n",
              "      <td>Cash</td>\n",
              "      <td>2021-10-24</td>\n",
              "      <td>Kanyon</td>\n",
              "      <td>242.40</td>\n",
              "      <td>2021-10</td>\n",
              "      <td>Books</td>\n",
              "    </tr>\n",
              "  </tbody>\n",
              "</table>\n",
              "</div>\n",
              "    <div class=\"colab-df-buttons\">\n",
              "\n",
              "  <div class=\"colab-df-container\">\n",
              "    <button class=\"colab-df-convert\" onclick=\"convertToInteractive('df-f87e04c2-58c4-40a3-96fe-07d95e7be980')\"\n",
              "            title=\"Convert this dataframe to an interactive table.\"\n",
              "            style=\"display:none;\">\n",
              "\n",
              "  <svg xmlns=\"http://www.w3.org/2000/svg\" height=\"24px\" viewBox=\"0 -960 960 960\">\n",
              "    <path d=\"M120-120v-720h720v720H120Zm60-500h600v-160H180v160Zm220 220h160v-160H400v160Zm0 220h160v-160H400v160ZM180-400h160v-160H180v160Zm440 0h160v-160H620v160ZM180-180h160v-160H180v160Zm440 0h160v-160H620v160Z\"/>\n",
              "  </svg>\n",
              "    </button>\n",
              "\n",
              "  <style>\n",
              "    .colab-df-container {\n",
              "      display:flex;\n",
              "      gap: 12px;\n",
              "    }\n",
              "\n",
              "    .colab-df-convert {\n",
              "      background-color: #E8F0FE;\n",
              "      border: none;\n",
              "      border-radius: 50%;\n",
              "      cursor: pointer;\n",
              "      display: none;\n",
              "      fill: #1967D2;\n",
              "      height: 32px;\n",
              "      padding: 0 0 0 0;\n",
              "      width: 32px;\n",
              "    }\n",
              "\n",
              "    .colab-df-convert:hover {\n",
              "      background-color: #E2EBFA;\n",
              "      box-shadow: 0px 1px 2px rgba(60, 64, 67, 0.3), 0px 1px 3px 1px rgba(60, 64, 67, 0.15);\n",
              "      fill: #174EA6;\n",
              "    }\n",
              "\n",
              "    .colab-df-buttons div {\n",
              "      margin-bottom: 4px;\n",
              "    }\n",
              "\n",
              "    [theme=dark] .colab-df-convert {\n",
              "      background-color: #3B4455;\n",
              "      fill: #D2E3FC;\n",
              "    }\n",
              "\n",
              "    [theme=dark] .colab-df-convert:hover {\n",
              "      background-color: #434B5C;\n",
              "      box-shadow: 0px 1px 3px 1px rgba(0, 0, 0, 0.15);\n",
              "      filter: drop-shadow(0px 1px 2px rgba(0, 0, 0, 0.3));\n",
              "      fill: #FFFFFF;\n",
              "    }\n",
              "  </style>\n",
              "\n",
              "    <script>\n",
              "      const buttonEl =\n",
              "        document.querySelector('#df-f87e04c2-58c4-40a3-96fe-07d95e7be980 button.colab-df-convert');\n",
              "      buttonEl.style.display =\n",
              "        google.colab.kernel.accessAllowed ? 'block' : 'none';\n",
              "\n",
              "      async function convertToInteractive(key) {\n",
              "        const element = document.querySelector('#df-f87e04c2-58c4-40a3-96fe-07d95e7be980');\n",
              "        const dataTable =\n",
              "          await google.colab.kernel.invokeFunction('convertToInteractive',\n",
              "                                                    [key], {});\n",
              "        if (!dataTable) return;\n",
              "\n",
              "        const docLinkHtml = 'Like what you see? Visit the ' +\n",
              "          '<a target=\"_blank\" href=https://colab.research.google.com/notebooks/data_table.ipynb>data table notebook</a>'\n",
              "          + ' to learn more about interactive tables.';\n",
              "        element.innerHTML = '';\n",
              "        dataTable['output_type'] = 'display_data';\n",
              "        await google.colab.output.renderOutput(dataTable, element);\n",
              "        const docLink = document.createElement('div');\n",
              "        docLink.innerHTML = docLinkHtml;\n",
              "        element.appendChild(docLink);\n",
              "      }\n",
              "    </script>\n",
              "  </div>\n",
              "\n",
              "\n",
              "    <div id=\"df-682e0c95-176f-45dc-bc88-76da44a7ea74\">\n",
              "      <button class=\"colab-df-quickchart\" onclick=\"quickchart('df-682e0c95-176f-45dc-bc88-76da44a7ea74')\"\n",
              "                title=\"Suggest charts\"\n",
              "                style=\"display:none;\">\n",
              "\n",
              "<svg xmlns=\"http://www.w3.org/2000/svg\" height=\"24px\"viewBox=\"0 0 24 24\"\n",
              "     width=\"24px\">\n",
              "    <g>\n",
              "        <path d=\"M19 3H5c-1.1 0-2 .9-2 2v14c0 1.1.9 2 2 2h14c1.1 0 2-.9 2-2V5c0-1.1-.9-2-2-2zM9 17H7v-7h2v7zm4 0h-2V7h2v10zm4 0h-2v-4h2v4z\"/>\n",
              "    </g>\n",
              "</svg>\n",
              "      </button>\n",
              "\n",
              "<style>\n",
              "  .colab-df-quickchart {\n",
              "      --bg-color: #E8F0FE;\n",
              "      --fill-color: #1967D2;\n",
              "      --hover-bg-color: #E2EBFA;\n",
              "      --hover-fill-color: #174EA6;\n",
              "      --disabled-fill-color: #AAA;\n",
              "      --disabled-bg-color: #DDD;\n",
              "  }\n",
              "\n",
              "  [theme=dark] .colab-df-quickchart {\n",
              "      --bg-color: #3B4455;\n",
              "      --fill-color: #D2E3FC;\n",
              "      --hover-bg-color: #434B5C;\n",
              "      --hover-fill-color: #FFFFFF;\n",
              "      --disabled-bg-color: #3B4455;\n",
              "      --disabled-fill-color: #666;\n",
              "  }\n",
              "\n",
              "  .colab-df-quickchart {\n",
              "    background-color: var(--bg-color);\n",
              "    border: none;\n",
              "    border-radius: 50%;\n",
              "    cursor: pointer;\n",
              "    display: none;\n",
              "    fill: var(--fill-color);\n",
              "    height: 32px;\n",
              "    padding: 0;\n",
              "    width: 32px;\n",
              "  }\n",
              "\n",
              "  .colab-df-quickchart:hover {\n",
              "    background-color: var(--hover-bg-color);\n",
              "    box-shadow: 0 1px 2px rgba(60, 64, 67, 0.3), 0 1px 3px 1px rgba(60, 64, 67, 0.15);\n",
              "    fill: var(--button-hover-fill-color);\n",
              "  }\n",
              "\n",
              "  .colab-df-quickchart-complete:disabled,\n",
              "  .colab-df-quickchart-complete:disabled:hover {\n",
              "    background-color: var(--disabled-bg-color);\n",
              "    fill: var(--disabled-fill-color);\n",
              "    box-shadow: none;\n",
              "  }\n",
              "\n",
              "  .colab-df-spinner {\n",
              "    border: 2px solid var(--fill-color);\n",
              "    border-color: transparent;\n",
              "    border-bottom-color: var(--fill-color);\n",
              "    animation:\n",
              "      spin 1s steps(1) infinite;\n",
              "  }\n",
              "\n",
              "  @keyframes spin {\n",
              "    0% {\n",
              "      border-color: transparent;\n",
              "      border-bottom-color: var(--fill-color);\n",
              "      border-left-color: var(--fill-color);\n",
              "    }\n",
              "    20% {\n",
              "      border-color: transparent;\n",
              "      border-left-color: var(--fill-color);\n",
              "      border-top-color: var(--fill-color);\n",
              "    }\n",
              "    30% {\n",
              "      border-color: transparent;\n",
              "      border-left-color: var(--fill-color);\n",
              "      border-top-color: var(--fill-color);\n",
              "      border-right-color: var(--fill-color);\n",
              "    }\n",
              "    40% {\n",
              "      border-color: transparent;\n",
              "      border-right-color: var(--fill-color);\n",
              "      border-top-color: var(--fill-color);\n",
              "    }\n",
              "    60% {\n",
              "      border-color: transparent;\n",
              "      border-right-color: var(--fill-color);\n",
              "    }\n",
              "    80% {\n",
              "      border-color: transparent;\n",
              "      border-right-color: var(--fill-color);\n",
              "      border-bottom-color: var(--fill-color);\n",
              "    }\n",
              "    90% {\n",
              "      border-color: transparent;\n",
              "      border-bottom-color: var(--fill-color);\n",
              "    }\n",
              "  }\n",
              "</style>\n",
              "\n",
              "      <script>\n",
              "        async function quickchart(key) {\n",
              "          const quickchartButtonEl =\n",
              "            document.querySelector('#' + key + ' button');\n",
              "          quickchartButtonEl.disabled = true;  // To prevent multiple clicks.\n",
              "          quickchartButtonEl.classList.add('colab-df-spinner');\n",
              "          try {\n",
              "            const charts = await google.colab.kernel.invokeFunction(\n",
              "                'suggestCharts', [key], {});\n",
              "          } catch (error) {\n",
              "            console.error('Error during call to suggestCharts:', error);\n",
              "          }\n",
              "          quickchartButtonEl.classList.remove('colab-df-spinner');\n",
              "          quickchartButtonEl.classList.add('colab-df-quickchart-complete');\n",
              "        }\n",
              "        (() => {\n",
              "          let quickchartButtonEl =\n",
              "            document.querySelector('#df-682e0c95-176f-45dc-bc88-76da44a7ea74 button');\n",
              "          quickchartButtonEl.style.display =\n",
              "            google.colab.kernel.accessAllowed ? 'block' : 'none';\n",
              "        })();\n",
              "      </script>\n",
              "    </div>\n",
              "\n",
              "    </div>\n",
              "  </div>\n"
            ],
            "application/vnd.google.colaboratory.intrinsic+json": {
              "type": "dataframe",
              "variable_name": "df",
              "summary": "{\n  \"name\": \"df\",\n  \"rows\": 99457,\n  \"fields\": [\n    {\n      \"column\": \"invoice_no\",\n      \"properties\": {\n        \"dtype\": \"string\",\n        \"num_unique_values\": 99457,\n        \"samples\": [\n          \"I704758\",\n          \"I218404\",\n          \"I195516\"\n        ],\n        \"semantic_type\": \"\",\n        \"description\": \"\"\n      }\n    },\n    {\n      \"column\": \"customer_id\",\n      \"properties\": {\n        \"dtype\": \"string\",\n        \"num_unique_values\": 99457,\n        \"samples\": [\n          \"C971218\",\n          \"C949846\",\n          \"C440398\"\n        ],\n        \"semantic_type\": \"\",\n        \"description\": \"\"\n      }\n    },\n    {\n      \"column\": \"gender\",\n      \"properties\": {\n        \"dtype\": \"category\",\n        \"num_unique_values\": 2,\n        \"samples\": [\n          \"Male\",\n          \"Female\"\n        ],\n        \"semantic_type\": \"\",\n        \"description\": \"\"\n      }\n    },\n    {\n      \"column\": \"age\",\n      \"properties\": {\n        \"dtype\": \"number\",\n        \"std\": 14,\n        \"min\": 18,\n        \"max\": 69,\n        \"num_unique_values\": 52,\n        \"samples\": [\n          52,\n          57\n        ],\n        \"semantic_type\": \"\",\n        \"description\": \"\"\n      }\n    },\n    {\n      \"column\": \"category\",\n      \"properties\": {\n        \"dtype\": \"category\",\n        \"num_unique_values\": 8,\n        \"samples\": [\n          \"Shoes\",\n          \"Toys\"\n        ],\n        \"semantic_type\": \"\",\n        \"description\": \"\"\n      }\n    },\n    {\n      \"column\": \"quantity\",\n      \"properties\": {\n        \"dtype\": \"number\",\n        \"std\": 1,\n        \"min\": 1,\n        \"max\": 5,\n        \"num_unique_values\": 5,\n        \"samples\": [\n          3,\n          2\n        ],\n        \"semantic_type\": \"\",\n        \"description\": \"\"\n      }\n    },\n    {\n      \"column\": \"price\",\n      \"properties\": {\n        \"dtype\": \"number\",\n        \"std\": 941.1845672157425,\n        \"min\": 5.23,\n        \"max\": 5250.0,\n        \"num_unique_values\": 40,\n        \"samples\": [\n          121.98,\n          71.68\n        ],\n        \"semantic_type\": \"\",\n        \"description\": \"\"\n      }\n    },\n    {\n      \"column\": \"payment_method\",\n      \"properties\": {\n        \"dtype\": \"category\",\n        \"num_unique_values\": 3,\n        \"samples\": [\n          \"Credit Card\",\n          \"Debit Card\"\n        ],\n        \"semantic_type\": \"\",\n        \"description\": \"\"\n      }\n    },\n    {\n      \"column\": \"invoice_date\",\n      \"properties\": {\n        \"dtype\": \"date\",\n        \"min\": \"2021-01-01 00:00:00\",\n        \"max\": \"2023-03-08 00:00:00\",\n        \"num_unique_values\": 797,\n        \"samples\": [\n          \"2022-07-09 00:00:00\",\n          \"2022-10-14 00:00:00\"\n        ],\n        \"semantic_type\": \"\",\n        \"description\": \"\"\n      }\n    },\n    {\n      \"column\": \"shopping_mall\",\n      \"properties\": {\n        \"dtype\": \"category\",\n        \"num_unique_values\": 10,\n        \"samples\": [\n          \"Viaport Outlet\",\n          \"Forum Istanbul\"\n        ],\n        \"semantic_type\": \"\",\n        \"description\": \"\"\n      }\n    },\n    {\n      \"column\": \"revenue\",\n      \"properties\": {\n        \"dtype\": \"number\",\n        \"std\": 4222.475781045694,\n        \"min\": 5.23,\n        \"max\": 26250.0,\n        \"num_unique_values\": 40,\n        \"samples\": [\n          365.94,\n          143.36\n        ],\n        \"semantic_type\": \"\",\n        \"description\": \"\"\n      }\n    },\n    {\n      \"column\": \"month\",\n      \"properties\": {\n        \"dtype\": \"period[M]\",\n        \"num_unique_values\": 27,\n        \"samples\": [\n          \"2021-08\",\n          \"2022-06\"\n        ],\n        \"semantic_type\": \"\",\n        \"description\": \"\"\n      }\n    },\n    {\n      \"column\": \"subcategory\",\n      \"properties\": {\n        \"dtype\": \"category\",\n        \"num_unique_values\": 8,\n        \"samples\": [\n          \"Shoes\",\n          \"Toys\"\n        ],\n        \"semantic_type\": \"\",\n        \"description\": \"\"\n      }\n    }\n  ]\n}"
            }
          },
          "metadata": {},
          "execution_count": 22
        }
      ]
    },
    {
      "cell_type": "code",
      "source": [
        "# Total revenue by category\n",
        "category_revenue = df.groupby('category')['revenue'].sum()\n",
        "print(category_revenue)\n",
        "\n",
        "# Total revenue by gender\n",
        "gender_revenue = df.groupby('gender')['revenue'].sum()\n",
        "print(gender_revenue)\n",
        "\n",
        "# Total revenue by shopping mall\n",
        "mall_revenue = df.groupby('shopping_mall')['revenue'].sum()\n",
        "print(mall_revenue)\n"
      ],
      "metadata": {
        "colab": {
          "base_uri": "https://localhost:8080/"
        },
        "id": "OrWP5H7CaXFd",
        "outputId": "2381e979-25d5-4e22-988e-17c52e179efb"
      },
      "execution_count": null,
      "outputs": [
        {
          "output_type": "stream",
          "name": "stdout",
          "text": [
            "category\n",
            "Books              8.345529e+05\n",
            "Clothing           1.139968e+08\n",
            "Cosmetics          6.792863e+06\n",
            "Food & Beverage    8.495351e+05\n",
            "Shoes              6.655345e+07\n",
            "Souvenir           6.358247e+05\n",
            "Technology         5.786235e+07\n",
            "Toys               3.980426e+06\n",
            "Name: revenue, dtype: float64\n",
            "gender\n",
            "Female    1.502071e+08\n",
            "Male      1.012987e+08\n",
            "Name: revenue, dtype: float64\n",
            "shopping_mall\n",
            "Cevahir AVM          12645138.20\n",
            "Emaar Square Mall    12406100.29\n",
            "Forum Istanbul       12303921.24\n",
            "Istinye Park         24618827.68\n",
            "Kanyon               50554231.10\n",
            "Mall of Istanbul     50872481.68\n",
            "Metrocity            37302787.33\n",
            "Metropol AVM         25379913.19\n",
            "Viaport Outlet       12521339.72\n",
            "Zorlu Center         12901053.82\n",
            "Name: revenue, dtype: float64\n"
          ]
        }
      ]
    },
    {
      "cell_type": "code",
      "source": [
        "df.to_csv('retail_data_cleaned.csv', index=False)\n"
      ],
      "metadata": {
        "id": "LwIp8H7Xatxm"
      },
      "execution_count": null,
      "outputs": []
    },
    {
      "cell_type": "code",
      "source": [
        "category_sales = df.groupby('category')['quantity'].sum().reset_index()"
      ],
      "metadata": {
        "id": "BASsLWdEa-Cw"
      },
      "execution_count": null,
      "outputs": []
    },
    {
      "cell_type": "code",
      "source": [
        "category_sales_sorted = category_sales.sort_values(by='quantity', ascending=False)\n"
      ],
      "metadata": {
        "id": "0Tqz-H1wbO-K"
      },
      "execution_count": null,
      "outputs": []
    },
    {
      "cell_type": "code",
      "source": [
        "category_sales_sorted.head()"
      ],
      "metadata": {
        "colab": {
          "base_uri": "https://localhost:8080/",
          "height": 206
        },
        "id": "wJfq7YyFbTkC",
        "outputId": "5f11086d-9465-4ddf-fa36-e3226247218f"
      },
      "execution_count": null,
      "outputs": [
        {
          "output_type": "execute_result",
          "data": {
            "text/plain": [
              "          category  quantity\n",
              "1         Clothing    103558\n",
              "2        Cosmetics     45465\n",
              "3  Food & Beverage     44277\n",
              "7             Toys     30321\n",
              "4            Shoes     30217"
            ],
            "text/html": [
              "\n",
              "  <div id=\"df-b8701f1a-51da-4e8b-8583-40dc4e101958\" class=\"colab-df-container\">\n",
              "    <div>\n",
              "<style scoped>\n",
              "    .dataframe tbody tr th:only-of-type {\n",
              "        vertical-align: middle;\n",
              "    }\n",
              "\n",
              "    .dataframe tbody tr th {\n",
              "        vertical-align: top;\n",
              "    }\n",
              "\n",
              "    .dataframe thead th {\n",
              "        text-align: right;\n",
              "    }\n",
              "</style>\n",
              "<table border=\"1\" class=\"dataframe\">\n",
              "  <thead>\n",
              "    <tr style=\"text-align: right;\">\n",
              "      <th></th>\n",
              "      <th>category</th>\n",
              "      <th>quantity</th>\n",
              "    </tr>\n",
              "  </thead>\n",
              "  <tbody>\n",
              "    <tr>\n",
              "      <th>1</th>\n",
              "      <td>Clothing</td>\n",
              "      <td>103558</td>\n",
              "    </tr>\n",
              "    <tr>\n",
              "      <th>2</th>\n",
              "      <td>Cosmetics</td>\n",
              "      <td>45465</td>\n",
              "    </tr>\n",
              "    <tr>\n",
              "      <th>3</th>\n",
              "      <td>Food &amp; Beverage</td>\n",
              "      <td>44277</td>\n",
              "    </tr>\n",
              "    <tr>\n",
              "      <th>7</th>\n",
              "      <td>Toys</td>\n",
              "      <td>30321</td>\n",
              "    </tr>\n",
              "    <tr>\n",
              "      <th>4</th>\n",
              "      <td>Shoes</td>\n",
              "      <td>30217</td>\n",
              "    </tr>\n",
              "  </tbody>\n",
              "</table>\n",
              "</div>\n",
              "    <div class=\"colab-df-buttons\">\n",
              "\n",
              "  <div class=\"colab-df-container\">\n",
              "    <button class=\"colab-df-convert\" onclick=\"convertToInteractive('df-b8701f1a-51da-4e8b-8583-40dc4e101958')\"\n",
              "            title=\"Convert this dataframe to an interactive table.\"\n",
              "            style=\"display:none;\">\n",
              "\n",
              "  <svg xmlns=\"http://www.w3.org/2000/svg\" height=\"24px\" viewBox=\"0 -960 960 960\">\n",
              "    <path d=\"M120-120v-720h720v720H120Zm60-500h600v-160H180v160Zm220 220h160v-160H400v160Zm0 220h160v-160H400v160ZM180-400h160v-160H180v160Zm440 0h160v-160H620v160ZM180-180h160v-160H180v160Zm440 0h160v-160H620v160Z\"/>\n",
              "  </svg>\n",
              "    </button>\n",
              "\n",
              "  <style>\n",
              "    .colab-df-container {\n",
              "      display:flex;\n",
              "      gap: 12px;\n",
              "    }\n",
              "\n",
              "    .colab-df-convert {\n",
              "      background-color: #E8F0FE;\n",
              "      border: none;\n",
              "      border-radius: 50%;\n",
              "      cursor: pointer;\n",
              "      display: none;\n",
              "      fill: #1967D2;\n",
              "      height: 32px;\n",
              "      padding: 0 0 0 0;\n",
              "      width: 32px;\n",
              "    }\n",
              "\n",
              "    .colab-df-convert:hover {\n",
              "      background-color: #E2EBFA;\n",
              "      box-shadow: 0px 1px 2px rgba(60, 64, 67, 0.3), 0px 1px 3px 1px rgba(60, 64, 67, 0.15);\n",
              "      fill: #174EA6;\n",
              "    }\n",
              "\n",
              "    .colab-df-buttons div {\n",
              "      margin-bottom: 4px;\n",
              "    }\n",
              "\n",
              "    [theme=dark] .colab-df-convert {\n",
              "      background-color: #3B4455;\n",
              "      fill: #D2E3FC;\n",
              "    }\n",
              "\n",
              "    [theme=dark] .colab-df-convert:hover {\n",
              "      background-color: #434B5C;\n",
              "      box-shadow: 0px 1px 3px 1px rgba(0, 0, 0, 0.15);\n",
              "      filter: drop-shadow(0px 1px 2px rgba(0, 0, 0, 0.3));\n",
              "      fill: #FFFFFF;\n",
              "    }\n",
              "  </style>\n",
              "\n",
              "    <script>\n",
              "      const buttonEl =\n",
              "        document.querySelector('#df-b8701f1a-51da-4e8b-8583-40dc4e101958 button.colab-df-convert');\n",
              "      buttonEl.style.display =\n",
              "        google.colab.kernel.accessAllowed ? 'block' : 'none';\n",
              "\n",
              "      async function convertToInteractive(key) {\n",
              "        const element = document.querySelector('#df-b8701f1a-51da-4e8b-8583-40dc4e101958');\n",
              "        const dataTable =\n",
              "          await google.colab.kernel.invokeFunction('convertToInteractive',\n",
              "                                                    [key], {});\n",
              "        if (!dataTable) return;\n",
              "\n",
              "        const docLinkHtml = 'Like what you see? Visit the ' +\n",
              "          '<a target=\"_blank\" href=https://colab.research.google.com/notebooks/data_table.ipynb>data table notebook</a>'\n",
              "          + ' to learn more about interactive tables.';\n",
              "        element.innerHTML = '';\n",
              "        dataTable['output_type'] = 'display_data';\n",
              "        await google.colab.output.renderOutput(dataTable, element);\n",
              "        const docLink = document.createElement('div');\n",
              "        docLink.innerHTML = docLinkHtml;\n",
              "        element.appendChild(docLink);\n",
              "      }\n",
              "    </script>\n",
              "  </div>\n",
              "\n",
              "\n",
              "    <div id=\"df-5db8d7a7-343e-4f77-b086-b60368937ed7\">\n",
              "      <button class=\"colab-df-quickchart\" onclick=\"quickchart('df-5db8d7a7-343e-4f77-b086-b60368937ed7')\"\n",
              "                title=\"Suggest charts\"\n",
              "                style=\"display:none;\">\n",
              "\n",
              "<svg xmlns=\"http://www.w3.org/2000/svg\" height=\"24px\"viewBox=\"0 0 24 24\"\n",
              "     width=\"24px\">\n",
              "    <g>\n",
              "        <path d=\"M19 3H5c-1.1 0-2 .9-2 2v14c0 1.1.9 2 2 2h14c1.1 0 2-.9 2-2V5c0-1.1-.9-2-2-2zM9 17H7v-7h2v7zm4 0h-2V7h2v10zm4 0h-2v-4h2v4z\"/>\n",
              "    </g>\n",
              "</svg>\n",
              "      </button>\n",
              "\n",
              "<style>\n",
              "  .colab-df-quickchart {\n",
              "      --bg-color: #E8F0FE;\n",
              "      --fill-color: #1967D2;\n",
              "      --hover-bg-color: #E2EBFA;\n",
              "      --hover-fill-color: #174EA6;\n",
              "      --disabled-fill-color: #AAA;\n",
              "      --disabled-bg-color: #DDD;\n",
              "  }\n",
              "\n",
              "  [theme=dark] .colab-df-quickchart {\n",
              "      --bg-color: #3B4455;\n",
              "      --fill-color: #D2E3FC;\n",
              "      --hover-bg-color: #434B5C;\n",
              "      --hover-fill-color: #FFFFFF;\n",
              "      --disabled-bg-color: #3B4455;\n",
              "      --disabled-fill-color: #666;\n",
              "  }\n",
              "\n",
              "  .colab-df-quickchart {\n",
              "    background-color: var(--bg-color);\n",
              "    border: none;\n",
              "    border-radius: 50%;\n",
              "    cursor: pointer;\n",
              "    display: none;\n",
              "    fill: var(--fill-color);\n",
              "    height: 32px;\n",
              "    padding: 0;\n",
              "    width: 32px;\n",
              "  }\n",
              "\n",
              "  .colab-df-quickchart:hover {\n",
              "    background-color: var(--hover-bg-color);\n",
              "    box-shadow: 0 1px 2px rgba(60, 64, 67, 0.3), 0 1px 3px 1px rgba(60, 64, 67, 0.15);\n",
              "    fill: var(--button-hover-fill-color);\n",
              "  }\n",
              "\n",
              "  .colab-df-quickchart-complete:disabled,\n",
              "  .colab-df-quickchart-complete:disabled:hover {\n",
              "    background-color: var(--disabled-bg-color);\n",
              "    fill: var(--disabled-fill-color);\n",
              "    box-shadow: none;\n",
              "  }\n",
              "\n",
              "  .colab-df-spinner {\n",
              "    border: 2px solid var(--fill-color);\n",
              "    border-color: transparent;\n",
              "    border-bottom-color: var(--fill-color);\n",
              "    animation:\n",
              "      spin 1s steps(1) infinite;\n",
              "  }\n",
              "\n",
              "  @keyframes spin {\n",
              "    0% {\n",
              "      border-color: transparent;\n",
              "      border-bottom-color: var(--fill-color);\n",
              "      border-left-color: var(--fill-color);\n",
              "    }\n",
              "    20% {\n",
              "      border-color: transparent;\n",
              "      border-left-color: var(--fill-color);\n",
              "      border-top-color: var(--fill-color);\n",
              "    }\n",
              "    30% {\n",
              "      border-color: transparent;\n",
              "      border-left-color: var(--fill-color);\n",
              "      border-top-color: var(--fill-color);\n",
              "      border-right-color: var(--fill-color);\n",
              "    }\n",
              "    40% {\n",
              "      border-color: transparent;\n",
              "      border-right-color: var(--fill-color);\n",
              "      border-top-color: var(--fill-color);\n",
              "    }\n",
              "    60% {\n",
              "      border-color: transparent;\n",
              "      border-right-color: var(--fill-color);\n",
              "    }\n",
              "    80% {\n",
              "      border-color: transparent;\n",
              "      border-right-color: var(--fill-color);\n",
              "      border-bottom-color: var(--fill-color);\n",
              "    }\n",
              "    90% {\n",
              "      border-color: transparent;\n",
              "      border-bottom-color: var(--fill-color);\n",
              "    }\n",
              "  }\n",
              "</style>\n",
              "\n",
              "      <script>\n",
              "        async function quickchart(key) {\n",
              "          const quickchartButtonEl =\n",
              "            document.querySelector('#' + key + ' button');\n",
              "          quickchartButtonEl.disabled = true;  // To prevent multiple clicks.\n",
              "          quickchartButtonEl.classList.add('colab-df-spinner');\n",
              "          try {\n",
              "            const charts = await google.colab.kernel.invokeFunction(\n",
              "                'suggestCharts', [key], {});\n",
              "          } catch (error) {\n",
              "            console.error('Error during call to suggestCharts:', error);\n",
              "          }\n",
              "          quickchartButtonEl.classList.remove('colab-df-spinner');\n",
              "          quickchartButtonEl.classList.add('colab-df-quickchart-complete');\n",
              "        }\n",
              "        (() => {\n",
              "          let quickchartButtonEl =\n",
              "            document.querySelector('#df-5db8d7a7-343e-4f77-b086-b60368937ed7 button');\n",
              "          quickchartButtonEl.style.display =\n",
              "            google.colab.kernel.accessAllowed ? 'block' : 'none';\n",
              "        })();\n",
              "      </script>\n",
              "    </div>\n",
              "\n",
              "    </div>\n",
              "  </div>\n"
            ],
            "application/vnd.google.colaboratory.intrinsic+json": {
              "type": "dataframe",
              "variable_name": "category_sales_sorted",
              "summary": "{\n  \"name\": \"category_sales_sorted\",\n  \"rows\": 8,\n  \"fields\": [\n    {\n      \"column\": \"category\",\n      \"properties\": {\n        \"dtype\": \"string\",\n        \"num_unique_values\": 8,\n        \"samples\": [\n          \"Cosmetics\",\n          \"Technology\",\n          \"Clothing\"\n        ],\n        \"semantic_type\": \"\",\n        \"description\": \"\"\n      }\n    },\n    {\n      \"column\": \"quantity\",\n      \"properties\": {\n        \"dtype\": \"number\",\n        \"std\": 29524,\n        \"min\": 14871,\n        \"max\": 103558,\n        \"num_unique_values\": 8,\n        \"samples\": [\n          45465,\n          15021,\n          103558\n        ],\n        \"semantic_type\": \"\",\n        \"description\": \"\"\n      }\n    }\n  ]\n}"
            }
          },
          "metadata": {},
          "execution_count": 29
        }
      ]
    },
    {
      "cell_type": "code",
      "source": [
        "# Calculate total spending per customer\n",
        "customer_spending = df.groupby('customer_id')['revenue'].sum().reset_index()\n",
        "\n",
        "# Define spending tiers\n",
        "bins = [0, 500, 1000, 5000, float('inf')]\n",
        "labels = ['Low', 'Medium', 'High', 'VIP']\n",
        "customer_spending['spending_tier'] = pd.cut(customer_spending['revenue'], bins=bins, labels=labels)\n",
        "\n",
        "# Display the first few entries\n",
        "customer_spending.head()\n"
      ],
      "metadata": {
        "colab": {
          "base_uri": "https://localhost:8080/",
          "height": 206
        },
        "id": "algMJsBMbUvc",
        "outputId": "4ced00a0-3949-41d4-a2d7-d0039cc3f5e6"
      },
      "execution_count": null,
      "outputs": [
        {
          "output_type": "execute_result",
          "data": {
            "text/plain": [
              "  customer_id  revenue spending_tier\n",
              "0     C100004  7502.00           VIP\n",
              "1     C100005  2400.68          High\n",
              "2     C100006   322.56           Low\n",
              "3     C100012   130.75           Low\n",
              "4     C100019    35.84           Low"
            ],
            "text/html": [
              "\n",
              "  <div id=\"df-4f6205ca-c403-48fe-a6ab-ff80f9bac098\" class=\"colab-df-container\">\n",
              "    <div>\n",
              "<style scoped>\n",
              "    .dataframe tbody tr th:only-of-type {\n",
              "        vertical-align: middle;\n",
              "    }\n",
              "\n",
              "    .dataframe tbody tr th {\n",
              "        vertical-align: top;\n",
              "    }\n",
              "\n",
              "    .dataframe thead th {\n",
              "        text-align: right;\n",
              "    }\n",
              "</style>\n",
              "<table border=\"1\" class=\"dataframe\">\n",
              "  <thead>\n",
              "    <tr style=\"text-align: right;\">\n",
              "      <th></th>\n",
              "      <th>customer_id</th>\n",
              "      <th>revenue</th>\n",
              "      <th>spending_tier</th>\n",
              "    </tr>\n",
              "  </thead>\n",
              "  <tbody>\n",
              "    <tr>\n",
              "      <th>0</th>\n",
              "      <td>C100004</td>\n",
              "      <td>7502.00</td>\n",
              "      <td>VIP</td>\n",
              "    </tr>\n",
              "    <tr>\n",
              "      <th>1</th>\n",
              "      <td>C100005</td>\n",
              "      <td>2400.68</td>\n",
              "      <td>High</td>\n",
              "    </tr>\n",
              "    <tr>\n",
              "      <th>2</th>\n",
              "      <td>C100006</td>\n",
              "      <td>322.56</td>\n",
              "      <td>Low</td>\n",
              "    </tr>\n",
              "    <tr>\n",
              "      <th>3</th>\n",
              "      <td>C100012</td>\n",
              "      <td>130.75</td>\n",
              "      <td>Low</td>\n",
              "    </tr>\n",
              "    <tr>\n",
              "      <th>4</th>\n",
              "      <td>C100019</td>\n",
              "      <td>35.84</td>\n",
              "      <td>Low</td>\n",
              "    </tr>\n",
              "  </tbody>\n",
              "</table>\n",
              "</div>\n",
              "    <div class=\"colab-df-buttons\">\n",
              "\n",
              "  <div class=\"colab-df-container\">\n",
              "    <button class=\"colab-df-convert\" onclick=\"convertToInteractive('df-4f6205ca-c403-48fe-a6ab-ff80f9bac098')\"\n",
              "            title=\"Convert this dataframe to an interactive table.\"\n",
              "            style=\"display:none;\">\n",
              "\n",
              "  <svg xmlns=\"http://www.w3.org/2000/svg\" height=\"24px\" viewBox=\"0 -960 960 960\">\n",
              "    <path d=\"M120-120v-720h720v720H120Zm60-500h600v-160H180v160Zm220 220h160v-160H400v160Zm0 220h160v-160H400v160ZM180-400h160v-160H180v160Zm440 0h160v-160H620v160ZM180-180h160v-160H180v160Zm440 0h160v-160H620v160Z\"/>\n",
              "  </svg>\n",
              "    </button>\n",
              "\n",
              "  <style>\n",
              "    .colab-df-container {\n",
              "      display:flex;\n",
              "      gap: 12px;\n",
              "    }\n",
              "\n",
              "    .colab-df-convert {\n",
              "      background-color: #E8F0FE;\n",
              "      border: none;\n",
              "      border-radius: 50%;\n",
              "      cursor: pointer;\n",
              "      display: none;\n",
              "      fill: #1967D2;\n",
              "      height: 32px;\n",
              "      padding: 0 0 0 0;\n",
              "      width: 32px;\n",
              "    }\n",
              "\n",
              "    .colab-df-convert:hover {\n",
              "      background-color: #E2EBFA;\n",
              "      box-shadow: 0px 1px 2px rgba(60, 64, 67, 0.3), 0px 1px 3px 1px rgba(60, 64, 67, 0.15);\n",
              "      fill: #174EA6;\n",
              "    }\n",
              "\n",
              "    .colab-df-buttons div {\n",
              "      margin-bottom: 4px;\n",
              "    }\n",
              "\n",
              "    [theme=dark] .colab-df-convert {\n",
              "      background-color: #3B4455;\n",
              "      fill: #D2E3FC;\n",
              "    }\n",
              "\n",
              "    [theme=dark] .colab-df-convert:hover {\n",
              "      background-color: #434B5C;\n",
              "      box-shadow: 0px 1px 3px 1px rgba(0, 0, 0, 0.15);\n",
              "      filter: drop-shadow(0px 1px 2px rgba(0, 0, 0, 0.3));\n",
              "      fill: #FFFFFF;\n",
              "    }\n",
              "  </style>\n",
              "\n",
              "    <script>\n",
              "      const buttonEl =\n",
              "        document.querySelector('#df-4f6205ca-c403-48fe-a6ab-ff80f9bac098 button.colab-df-convert');\n",
              "      buttonEl.style.display =\n",
              "        google.colab.kernel.accessAllowed ? 'block' : 'none';\n",
              "\n",
              "      async function convertToInteractive(key) {\n",
              "        const element = document.querySelector('#df-4f6205ca-c403-48fe-a6ab-ff80f9bac098');\n",
              "        const dataTable =\n",
              "          await google.colab.kernel.invokeFunction('convertToInteractive',\n",
              "                                                    [key], {});\n",
              "        if (!dataTable) return;\n",
              "\n",
              "        const docLinkHtml = 'Like what you see? Visit the ' +\n",
              "          '<a target=\"_blank\" href=https://colab.research.google.com/notebooks/data_table.ipynb>data table notebook</a>'\n",
              "          + ' to learn more about interactive tables.';\n",
              "        element.innerHTML = '';\n",
              "        dataTable['output_type'] = 'display_data';\n",
              "        await google.colab.output.renderOutput(dataTable, element);\n",
              "        const docLink = document.createElement('div');\n",
              "        docLink.innerHTML = docLinkHtml;\n",
              "        element.appendChild(docLink);\n",
              "      }\n",
              "    </script>\n",
              "  </div>\n",
              "\n",
              "\n",
              "    <div id=\"df-f7f90592-cbaf-40c2-a90d-5f945fc52dde\">\n",
              "      <button class=\"colab-df-quickchart\" onclick=\"quickchart('df-f7f90592-cbaf-40c2-a90d-5f945fc52dde')\"\n",
              "                title=\"Suggest charts\"\n",
              "                style=\"display:none;\">\n",
              "\n",
              "<svg xmlns=\"http://www.w3.org/2000/svg\" height=\"24px\"viewBox=\"0 0 24 24\"\n",
              "     width=\"24px\">\n",
              "    <g>\n",
              "        <path d=\"M19 3H5c-1.1 0-2 .9-2 2v14c0 1.1.9 2 2 2h14c1.1 0 2-.9 2-2V5c0-1.1-.9-2-2-2zM9 17H7v-7h2v7zm4 0h-2V7h2v10zm4 0h-2v-4h2v4z\"/>\n",
              "    </g>\n",
              "</svg>\n",
              "      </button>\n",
              "\n",
              "<style>\n",
              "  .colab-df-quickchart {\n",
              "      --bg-color: #E8F0FE;\n",
              "      --fill-color: #1967D2;\n",
              "      --hover-bg-color: #E2EBFA;\n",
              "      --hover-fill-color: #174EA6;\n",
              "      --disabled-fill-color: #AAA;\n",
              "      --disabled-bg-color: #DDD;\n",
              "  }\n",
              "\n",
              "  [theme=dark] .colab-df-quickchart {\n",
              "      --bg-color: #3B4455;\n",
              "      --fill-color: #D2E3FC;\n",
              "      --hover-bg-color: #434B5C;\n",
              "      --hover-fill-color: #FFFFFF;\n",
              "      --disabled-bg-color: #3B4455;\n",
              "      --disabled-fill-color: #666;\n",
              "  }\n",
              "\n",
              "  .colab-df-quickchart {\n",
              "    background-color: var(--bg-color);\n",
              "    border: none;\n",
              "    border-radius: 50%;\n",
              "    cursor: pointer;\n",
              "    display: none;\n",
              "    fill: var(--fill-color);\n",
              "    height: 32px;\n",
              "    padding: 0;\n",
              "    width: 32px;\n",
              "  }\n",
              "\n",
              "  .colab-df-quickchart:hover {\n",
              "    background-color: var(--hover-bg-color);\n",
              "    box-shadow: 0 1px 2px rgba(60, 64, 67, 0.3), 0 1px 3px 1px rgba(60, 64, 67, 0.15);\n",
              "    fill: var(--button-hover-fill-color);\n",
              "  }\n",
              "\n",
              "  .colab-df-quickchart-complete:disabled,\n",
              "  .colab-df-quickchart-complete:disabled:hover {\n",
              "    background-color: var(--disabled-bg-color);\n",
              "    fill: var(--disabled-fill-color);\n",
              "    box-shadow: none;\n",
              "  }\n",
              "\n",
              "  .colab-df-spinner {\n",
              "    border: 2px solid var(--fill-color);\n",
              "    border-color: transparent;\n",
              "    border-bottom-color: var(--fill-color);\n",
              "    animation:\n",
              "      spin 1s steps(1) infinite;\n",
              "  }\n",
              "\n",
              "  @keyframes spin {\n",
              "    0% {\n",
              "      border-color: transparent;\n",
              "      border-bottom-color: var(--fill-color);\n",
              "      border-left-color: var(--fill-color);\n",
              "    }\n",
              "    20% {\n",
              "      border-color: transparent;\n",
              "      border-left-color: var(--fill-color);\n",
              "      border-top-color: var(--fill-color);\n",
              "    }\n",
              "    30% {\n",
              "      border-color: transparent;\n",
              "      border-left-color: var(--fill-color);\n",
              "      border-top-color: var(--fill-color);\n",
              "      border-right-color: var(--fill-color);\n",
              "    }\n",
              "    40% {\n",
              "      border-color: transparent;\n",
              "      border-right-color: var(--fill-color);\n",
              "      border-top-color: var(--fill-color);\n",
              "    }\n",
              "    60% {\n",
              "      border-color: transparent;\n",
              "      border-right-color: var(--fill-color);\n",
              "    }\n",
              "    80% {\n",
              "      border-color: transparent;\n",
              "      border-right-color: var(--fill-color);\n",
              "      border-bottom-color: var(--fill-color);\n",
              "    }\n",
              "    90% {\n",
              "      border-color: transparent;\n",
              "      border-bottom-color: var(--fill-color);\n",
              "    }\n",
              "  }\n",
              "</style>\n",
              "\n",
              "      <script>\n",
              "        async function quickchart(key) {\n",
              "          const quickchartButtonEl =\n",
              "            document.querySelector('#' + key + ' button');\n",
              "          quickchartButtonEl.disabled = true;  // To prevent multiple clicks.\n",
              "          quickchartButtonEl.classList.add('colab-df-spinner');\n",
              "          try {\n",
              "            const charts = await google.colab.kernel.invokeFunction(\n",
              "                'suggestCharts', [key], {});\n",
              "          } catch (error) {\n",
              "            console.error('Error during call to suggestCharts:', error);\n",
              "          }\n",
              "          quickchartButtonEl.classList.remove('colab-df-spinner');\n",
              "          quickchartButtonEl.classList.add('colab-df-quickchart-complete');\n",
              "        }\n",
              "        (() => {\n",
              "          let quickchartButtonEl =\n",
              "            document.querySelector('#df-f7f90592-cbaf-40c2-a90d-5f945fc52dde button');\n",
              "          quickchartButtonEl.style.display =\n",
              "            google.colab.kernel.accessAllowed ? 'block' : 'none';\n",
              "        })();\n",
              "      </script>\n",
              "    </div>\n",
              "\n",
              "    </div>\n",
              "  </div>\n"
            ],
            "application/vnd.google.colaboratory.intrinsic+json": {
              "type": "dataframe",
              "variable_name": "customer_spending",
              "summary": "{\n  \"name\": \"customer_spending\",\n  \"rows\": 99457,\n  \"fields\": [\n    {\n      \"column\": \"customer_id\",\n      \"properties\": {\n        \"dtype\": \"string\",\n        \"num_unique_values\": 99457,\n        \"samples\": [\n          \"C308977\",\n          \"C920699\",\n          \"C208394\"\n        ],\n        \"semantic_type\": \"\",\n        \"description\": \"\"\n      }\n    },\n    {\n      \"column\": \"revenue\",\n      \"properties\": {\n        \"dtype\": \"number\",\n        \"std\": 4222.475781045675,\n        \"min\": 5.23,\n        \"max\": 26250.0,\n        \"num_unique_values\": 40,\n        \"samples\": [\n          365.94,\n          300.08,\n          136.35000000000002\n        ],\n        \"semantic_type\": \"\",\n        \"description\": \"\"\n      }\n    },\n    {\n      \"column\": \"spending_tier\",\n      \"properties\": {\n        \"dtype\": \"category\",\n        \"num_unique_values\": 4,\n        \"samples\": [\n          \"High\",\n          \"Medium\",\n          \"VIP\"\n        ],\n        \"semantic_type\": \"\",\n        \"description\": \"\"\n      }\n    }\n  ]\n}"
            }
          },
          "metadata": {},
          "execution_count": 30
        }
      ]
    },
    {
      "cell_type": "code",
      "source": [
        "# Calculate ATV\n",
        "atv = df['revenue'].mean()\n",
        "\n",
        "# Display the result\n",
        "print(f\"Average Transaction Value: ₹{atv:.2f}\")\n"
      ],
      "metadata": {
        "colab": {
          "base_uri": "https://localhost:8080/"
        },
        "id": "445yhKVGbawr",
        "outputId": "238851ec-1aa7-4b7f-e49e-ca2f6449091a"
      },
      "execution_count": null,
      "outputs": [
        {
          "output_type": "stream",
          "name": "stdout",
          "text": [
            "Average Transaction Value: ₹2528.79\n"
          ]
        }
      ]
    },
    {
      "cell_type": "code",
      "source": [
        "# Save the dataframe to a new CSV file\n",
        "df.to_csv('cleaned_retail_data.csv', index=False)\n"
      ],
      "metadata": {
        "id": "J_f1oKPnbjIs"
      },
      "execution_count": null,
      "outputs": []
    },
    {
      "cell_type": "code",
      "source": [
        "# I have used simple python logic to map the product by its category\n",
        "\n",
        "def map_product_category(category):\n",
        "    if category == 'Clothing':\n",
        "        return 'Apparel'\n",
        "    elif category == 'Shoes':\n",
        "        return 'Footwear'\n",
        "    elif category == 'Books':\n",
        "        return 'Reading Material'\n",
        "    else:\n",
        "        return 'Other'\n",
        "\n",
        "# Apply the mapping\n",
        "df['product_mapped'] = df['category'].apply(map_product_category)\n",
        "\n",
        "# Check the results\n",
        "print(df[['category','product_mapped']])\n"
      ],
      "metadata": {
        "colab": {
          "base_uri": "https://localhost:8080/"
        },
        "id": "nkirD0Gsbk3v",
        "outputId": "446f45a9-abaf-4f9b-f10e-92371d215709"
      },
      "execution_count": null,
      "outputs": [
        {
          "output_type": "stream",
          "name": "stdout",
          "text": [
            "              category    product_mapped\n",
            "0             Clothing           Apparel\n",
            "1                Shoes          Footwear\n",
            "2             Clothing           Apparel\n",
            "3                Shoes          Footwear\n",
            "4                Books  Reading Material\n",
            "...                ...               ...\n",
            "99452         Souvenir             Other\n",
            "99453  Food & Beverage             Other\n",
            "99454  Food & Beverage             Other\n",
            "99455       Technology             Other\n",
            "99456         Souvenir             Other\n",
            "\n",
            "[99457 rows x 2 columns]\n"
          ]
        }
      ]
    },
    {
      "cell_type": "code",
      "source": [
        "# Count how many products fall in each mapped category\n",
        "mapped_counts = df['product_mapped'].value_counts()\n",
        "print(mapped_counts)\n",
        "\n",
        "# bar chart\n",
        "mapped_counts.plot(kind='bar', title='Number of Products by Mapped Category', color='skyblue')\n",
        "plt.xlabel('Mapped Category')\n",
        "plt.ylabel('Number of Products')\n",
        "plt.show()\n"
      ],
      "metadata": {
        "colab": {
          "base_uri": "https://localhost:8080/",
          "height": 679
        },
        "id": "Dn6Psn3kb1cx",
        "outputId": "9a1edaec-aca4-4dbf-fec3-d23e00598349"
      },
      "execution_count": null,
      "outputs": [
        {
          "output_type": "stream",
          "name": "stdout",
          "text": [
            "product_mapped\n",
            "Other               49955\n",
            "Apparel             34487\n",
            "Footwear            10034\n",
            "Reading Material     4981\n",
            "Name: count, dtype: int64\n"
          ]
        },
        {
          "output_type": "display_data",
          "data": {
            "text/plain": [
              "<Figure size 640x480 with 1 Axes>"
            ],
            "image/png": "[encoded data removed]"
          },
          "metadata": {}
        }
      ]
    },
    {
      "cell_type": "code",
      "source": [
        "# Sum revenue for each mapped category\n",
        "mapped_revenue = df.groupby('product_mapped')['revenue'].sum()\n",
        "print(mapped_revenue)\n",
        "\n",
        "# Bar chart visualization\n",
        "mapped_revenue.plot(kind='bar', title='Revenue by Mapped Category', color='orange')\n",
        "plt.xlabel('Mapped Category')\n",
        "plt.ylabel('Revenue')\n",
        "plt.show()\n"
      ],
      "metadata": {
        "colab": {
          "base_uri": "https://localhost:8080/",
          "height": 679
        },
        "id": "Nru4r4vnb9V-",
        "outputId": "41237478-cf9f-4061-a48f-a76c55beda3f"
      },
      "execution_count": null,
      "outputs": [
        {
          "output_type": "stream",
          "name": "stdout",
          "text": [
            "product_mapped\n",
            "Apparel             1.139968e+08\n",
            "Footwear            6.655345e+07\n",
            "Other               7.012100e+07\n",
            "Reading Material    8.345529e+05\n",
            "Name: revenue, dtype: float64\n"
          ]
        },
        {
          "output_type": "display_data",
          "data": {
            "text/plain": [
              "<Figure size 640x480 with 1 Axes>"
            ],
            "image/png": "[encoded data removed]"
          },
          "metadata": {}
        }
      ]
    },
    {
      "cell_type": "code",
      "source": [
        "def price_tier(price):\n",
        "    if price < 500:\n",
        "        return 'Low'\n",
        "    elif price < 2000:\n",
        "        return 'Medium'\n",
        "    else:\n",
        "        return 'High'\n",
        "\n",
        "df['price_tier'] = df['price'].apply(price_tier)\n",
        "print(df[['category','price','price_tier']])\n"
      ],
      "metadata": {
        "colab": {
          "base_uri": "https://localhost:8080/"
        },
        "id": "RAHdm5NWcH9p",
        "outputId": "8f67f420-6b5d-4a60-b74f-07e20748b1c8"
      },
      "execution_count": null,
      "outputs": [
        {
          "output_type": "stream",
          "name": "stdout",
          "text": [
            "              category    price price_tier\n",
            "0             Clothing  1500.40     Medium\n",
            "1                Shoes  1800.51     Medium\n",
            "2             Clothing   300.08        Low\n",
            "3                Shoes  3000.85       High\n",
            "4                Books    60.60        Low\n",
            "...                ...      ...        ...\n",
            "99452         Souvenir    58.65        Low\n",
            "99453  Food & Beverage    10.46        Low\n",
            "99454  Food & Beverage    10.46        Low\n",
            "99455       Technology  4200.00       High\n",
            "99456         Souvenir    35.19        Low\n",
            "\n",
            "[99457 rows x 3 columns]\n"
          ]
        }
      ]
    },
    {
      "cell_type": "code",
      "source": [
        "def quantity_tier(qty):\n",
        "    if qty <= 2:\n",
        "        return 'Low Demand'\n",
        "    elif qty <= 5:\n",
        "        return 'Medium Demand'\n",
        "    else:\n",
        "        return 'High Demand'\n",
        "\n",
        "df['demand_tier'] = df['quantity'].apply(quantity_tier)\n",
        "print(df[['category','quantity','demand_tier']])\n"
      ],
      "metadata": {
        "colab": {
          "base_uri": "https://localhost:8080/"
        },
        "id": "kwx7iH6ZcOKT",
        "outputId": "91965b87-523d-4f58-8c7b-3ee57031a0b1"
      },
      "execution_count": null,
      "outputs": [
        {
          "output_type": "stream",
          "name": "stdout",
          "text": [
            "              category  quantity    demand_tier\n",
            "0             Clothing         5  Medium Demand\n",
            "1                Shoes         3  Medium Demand\n",
            "2             Clothing         1     Low Demand\n",
            "3                Shoes         5  Medium Demand\n",
            "4                Books         4  Medium Demand\n",
            "...                ...       ...            ...\n",
            "99452         Souvenir         5  Medium Demand\n",
            "99453  Food & Beverage         2     Low Demand\n",
            "99454  Food & Beverage         2     Low Demand\n",
            "99455       Technology         4  Medium Demand\n",
            "99456         Souvenir         3  Medium Demand\n",
            "\n",
            "[99457 rows x 3 columns]\n"
          ]
        }
      ]
    },
    {
      "cell_type": "code",
      "source": [
        "payment_pref = df.groupby(['product_mapped','payment_method'])['revenue'].sum().unstack()\n",
        "print(payment_pref)\n"
      ],
      "metadata": {
        "colab": {
          "base_uri": "https://localhost:8080/"
        },
        "id": "hNun9GERcqv5",
        "outputId": "772a30db-f2d3-41b9-ca67-2323afc9ca07"
      },
      "execution_count": null,
      "outputs": [
        {
          "output_type": "stream",
          "name": "stdout",
          "text": [
            "payment_method           Cash  Credit Card   Debit Card\n",
            "product_mapped                                         \n",
            "Apparel           51308878.72  39351590.96  23336321.36\n",
            "Footwear          29782836.08  23560873.69  13209741.70\n",
            "Other             31360581.37  24884050.82  13876366.65\n",
            "Reading Material    379946.85    280608.30    173997.75\n"
          ]
        }
      ]
    },
    {
      "cell_type": "code",
      "source": [
        "gender_pref = df.groupby(['product_mapped','gender'])['revenue'].sum().unstack()\n",
        "print(gender_pref)\n"
      ],
      "metadata": {
        "colab": {
          "base_uri": "https://localhost:8080/"
        },
        "id": "eZGxQDfNcr22",
        "outputId": "be54750f-b84f-4f67-970f-4a3a24284382"
      },
      "execution_count": null,
      "outputs": [
        {
          "output_type": "stream",
          "name": "stdout",
          "text": [
            "gender                 Female         Male\n",
            "product_mapped                            \n",
            "Apparel           68251695.60  45745095.44\n",
            "Footwear          39425167.30  27128284.17\n",
            "Other             42040958.42  28080040.42\n",
            "Reading Material    489314.70    345238.20\n"
          ]
        }
      ]
    },
    {
      "cell_type": "code",
      "source": [
        "mall_pref = df.groupby(['shopping_mall','product_mapped'])['revenue'].sum().unstack()\n",
        "print(mall_pref)\n"
      ],
      "metadata": {
        "colab": {
          "base_uri": "https://localhost:8080/"
        },
        "id": "-rPKpY2VcuR_",
        "outputId": "be62ff37-75e0-4dfd-ba52-aa3f1fa9e376"
      },
      "execution_count": null,
      "outputs": [
        {
          "output_type": "stream",
          "name": "stdout",
          "text": [
            "product_mapped         Apparel     Footwear        Other  Reading Material\n",
            "shopping_mall                                                             \n",
            "Cevahir AVM         5706321.28   3243918.85   3650357.07          44541.00\n",
            "Emaar Square Mall   5590490.40   3089675.16   3683938.93          41995.80\n",
            "Forum Istanbul      5792444.24   3327942.65   3141477.95          42056.40\n",
            "Istinye Park       11253900.24   6641481.22   6647362.92          76083.30\n",
            "Kanyon             22609527.60  13383190.83  14398483.52         163029.15\n",
            "Mall of Istanbul   22947417.68  13467814.80  14285008.85         172240.35\n",
            "Metrocity          17226692.56   9519296.37  10430886.75         125911.65\n",
            "Metropol AVM       11568084.00   7149825.21   6578285.08          83718.90\n",
            "Viaport Outlet      5604594.16   3194704.91   3682408.25          39632.40\n",
            "Zorlu Center        5697318.88   3535601.47   3622789.52          45343.95\n"
          ]
        }
      ]
    },
    {
      "cell_type": "code",
      "source": [
        "import sqlite3"
      ],
      "metadata": {
        "id": "xBzOTOOgcvqC"
      },
      "execution_count": null,
      "outputs": []
    },
    {
      "cell_type": "code",
      "source": [
        "conn = sqlite3.connect(':memory')"
      ],
      "metadata": {
        "id": "ocoxAL34dLjf"
      },
      "execution_count": null,
      "outputs": []
    },
    {
      "cell_type": "code",
      "source": [
        "# Make sure invoice_date is in datetime format\n",
        "df['invoice_date'] = pd.to_datetime(df['invoice_date'], dayfirst=True)\n",
        "\n",
        "# Create month_year column\n",
        "df['month_year'] = df['invoice_date'].dt.to_period('M')\n",
        "\n",
        "# Convert to string for SQLite\n",
        "df['month_year'] = df['month_year'].astype(str)\n"
      ],
      "metadata": {
        "id": "yUf0usF8dQMe"
      },
      "execution_count": null,
      "outputs": []
    },
    {
      "cell_type": "code",
      "source": [
        "# Check column types\n",
        "print(df.dtypes)\n"
      ],
      "metadata": {
        "colab": {
          "base_uri": "https://localhost:8080/"
        },
        "id": "HeQLcPENdW75",
        "outputId": "795a590c-0a3c-4cb4-b0b4-4fab7244a1d4"
      },
      "execution_count": null,
      "outputs": [
        {
          "output_type": "stream",
          "name": "stdout",
          "text": [
            "invoice_no                object\n",
            "customer_id               object\n",
            "gender                    object\n",
            "age                        int64\n",
            "category                  object\n",
            "quantity                   int64\n",
            "price                    float64\n",
            "payment_method            object\n",
            "invoice_date      datetime64[ns]\n",
            "shopping_mall             object\n",
            "revenue                  float64\n",
            "month                  period[M]\n",
            "subcategory               object\n",
            "product_mapped            object\n",
            "price_tier                object\n",
            "demand_tier               object\n",
            "month_year                object\n",
            "dtype: object\n"
          ]
        }
      ]
    },
    {
      "cell_type": "code",
      "source": [
        "for col in df.columns:\n",
        "    if str(df[col].dtype).startswith('period'):\n",
        "        df[col] = df[col].astype(str)\n"
      ],
      "metadata": {
        "id": "v5FvPNUtdtL_"
      },
      "execution_count": null,
      "outputs": []
    },
    {
      "cell_type": "code",
      "source": [
        "import sqlite3\n",
        "\n",
        "conn = sqlite3.connect(':memory:')\n",
        "df.to_sql('customer_shopping_data', conn, index=False, if_exists='replace')\n"
      ],
      "metadata": {
        "colab": {
          "base_uri": "https://localhost:8080/"
        },
        "id": "w8IA2lYHd4JY",
        "outputId": "10279837-7d5f-48a0-99dd-78032c15c975"
      },
      "execution_count": null,
      "outputs": [
        {
          "output_type": "execute_result",
          "data": {
            "text/plain": [
              "99457"
            ]
          },
          "metadata": {},
          "execution_count": 52
        }
      ]
    },
    {
      "cell_type": "code",
      "source": [
        "query = \"\"\"\n",
        "select * from customer_shopping_data\n",
        "\"\"\"\n",
        "data = pd.read_sql_query(query, conn)\n",
        "print(data)"
      ],
      "metadata": {
        "colab": {
          "base_uri": "https://localhost:8080/"
        },
        "id": "Uk4qC1xZd5MY",
        "outputId": "f1341405-a5e1-4352-c300-28c046046290"
      },
      "execution_count": null,
      "outputs": [
        {
          "output_type": "stream",
          "name": "stdout",
          "text": [
            "      invoice_no customer_id  gender  age         category  quantity    price  \\\n",
            "0        I138884     C241288  Female   28         Clothing         5  1500.40   \n",
            "1        I317333     C111565    Male   21            Shoes         3  1800.51   \n",
            "2        I127801     C266599    Male   20         Clothing         1   300.08   \n",
            "3        I173702     C988172  Female   66            Shoes         5  3000.85   \n",
            "4        I337046     C189076  Female   53            Books         4    60.60   \n",
            "...          ...         ...     ...  ...              ...       ...      ...   \n",
            "99452    I219422     C441542  Female   45         Souvenir         5    58.65   \n",
            "99453    I325143     C569580    Male   27  Food & Beverage         2    10.46   \n",
            "99454    I824010     C103292    Male   63  Food & Beverage         2    10.46   \n",
            "99455    I702964     C800631    Male   56       Technology         4  4200.00   \n",
            "99456    I232867     C273973  Female   36         Souvenir         3    35.19   \n",
            "\n",
            "      payment_method         invoice_date     shopping_mall   revenue  \\\n",
            "0        Credit Card  2022-08-05 00:00:00            Kanyon   7502.00   \n",
            "1         Debit Card  2021-12-12 00:00:00    Forum Istanbul   5401.53   \n",
            "2               Cash  2021-11-09 00:00:00         Metrocity    300.08   \n",
            "3        Credit Card  2021-05-16 00:00:00      Metropol AVM  15004.25   \n",
            "4               Cash  2021-10-24 00:00:00            Kanyon    242.40   \n",
            "...              ...                  ...               ...       ...   \n",
            "99452    Credit Card  2022-09-21 00:00:00            Kanyon    293.25   \n",
            "99453           Cash  2021-09-22 00:00:00    Forum Istanbul     20.92   \n",
            "99454     Debit Card  2021-03-28 00:00:00         Metrocity     20.92   \n",
            "99455           Cash  2021-03-16 00:00:00      Istinye Park  16800.00   \n",
            "99456    Credit Card  2022-10-15 00:00:00  Mall of Istanbul    105.57   \n",
            "\n",
            "         month      subcategory    product_mapped price_tier    demand_tier  \\\n",
            "0      2022-08         Clothing           Apparel     Medium  Medium Demand   \n",
            "1      2021-12            Shoes          Footwear     Medium  Medium Demand   \n",
            "2      2021-11         Clothing           Apparel        Low     Low Demand   \n",
            "3      2021-05            Shoes          Footwear       High  Medium Demand   \n",
            "4      2021-10            Books  Reading Material        Low  Medium Demand   \n",
            "...        ...              ...               ...        ...            ...   \n",
            "99452  2022-09         Souvenir             Other        Low  Medium Demand   \n",
            "99453  2021-09  Food & Beverage             Other        Low     Low Demand   \n",
            "99454  2021-03  Food & Beverage             Other        Low     Low Demand   \n",
            "99455  2021-03       Technology             Other       High  Medium Demand   \n",
            "99456  2022-10         Souvenir             Other        Low  Medium Demand   \n",
            "\n",
            "      month_year  \n",
            "0        2022-08  \n",
            "1        2021-12  \n",
            "2        2021-11  \n",
            "3        2021-05  \n",
            "4        2021-10  \n",
            "...          ...  \n",
            "99452    2022-09  \n",
            "99453    2021-09  \n",
            "99454    2021-03  \n",
            "99455    2021-03  \n",
            "99456    2022-10  \n",
            "\n",
            "[99457 rows x 17 columns]\n"
          ]
        }
      ]
    },
    {
      "cell_type": "code",
      "source": [
        "query = \"\"\"\n",
        "SELECT category, SUM(quantity) AS total_quantity, SUM(price*quantity) AS total_revenue\n",
        "FROM customer_shopping_data\n",
        "GROUP BY category\n",
        "ORDER BY total_quantity DESC\n",
        "\"\"\"\n",
        "top_products = pd.read_sql_query(query, conn)\n",
        "print(top_products)\n"
      ],
      "metadata": {
        "colab": {
          "base_uri": "https://localhost:8080/"
        },
        "id": "uw6V1mcxeBCI",
        "outputId": "a473c170-f7d5-4ad8-c2bf-73a0db9ca589"
      },
      "execution_count": null,
      "outputs": [
        {
          "output_type": "stream",
          "name": "stdout",
          "text": [
            "          category  total_quantity  total_revenue\n",
            "0         Clothing          103558   1.139968e+08\n",
            "1        Cosmetics           45465   6.792863e+06\n",
            "2  Food & Beverage           44277   8.495351e+05\n",
            "3             Toys           30321   3.980426e+06\n",
            "4            Shoes           30217   6.655345e+07\n",
            "5       Technology           15021   5.786235e+07\n",
            "6            Books           14982   8.345529e+05\n",
            "7         Souvenir           14871   6.358246e+05\n"
          ]
        }
      ]
    },
    {
      "cell_type": "code",
      "source": [
        "query = \"\"\"\n",
        "SELECT payment_method, SUM(price*quantity) AS total_revenue\n",
        "FROM customer_shopping_data\n",
        "GROUP BY payment_method\n",
        "ORDER BY total_revenue DESC\n",
        "\"\"\"\n",
        "payment_revenue = pd.read_sql_query(query, conn)\n",
        "print(payment_revenue)\n"
      ],
      "metadata": {
        "colab": {
          "base_uri": "https://localhost:8080/"
        },
        "id": "vILL6Xcmef8Z",
        "outputId": "72537c7d-0b00-4789-c94f-5df270f324ef"
      },
      "execution_count": null,
      "outputs": [
        {
          "output_type": "stream",
          "name": "stdout",
          "text": [
            "  payment_method  total_revenue\n",
            "0           Cash   1.128322e+08\n",
            "1    Credit Card   8.807712e+07\n",
            "2     Debit Card   5.059643e+07\n"
          ]
        }
      ]
    },
    {
      "cell_type": "code",
      "source": [
        "query = \"\"\"\n",
        "SELECT payment_method, SUM(price*quantity) AS total_revenue\n",
        "FROM customer_shopping_data\n",
        "GROUP BY payment_method\n",
        "ORDER BY total_revenue DESC\n",
        "\"\"\"\n",
        "payment_revenue = pd.read_sql_query(query, conn)\n",
        "print(payment_revenue)\n"
      ],
      "metadata": {
        "colab": {
          "base_uri": "https://localhost:8080/"
        },
        "id": "au_UK4JzegwC",
        "outputId": "4584bd06-d67c-4f1e-ebce-ac92db820205"
      },
      "execution_count": null,
      "outputs": [
        {
          "output_type": "stream",
          "name": "stdout",
          "text": [
            "  payment_method  total_revenue\n",
            "0           Cash   1.128322e+08\n",
            "1    Credit Card   8.807712e+07\n",
            "2     Debit Card   5.059643e+07\n"
          ]
        }
      ]
    },
    {
      "cell_type": "code",
      "source": [
        "query = \"\"\"\n",
        "SELECT shopping_mall, SUM(price*quantity) AS total_revenue\n",
        "FROM customer_shopping_data\n",
        "GROUP BY shopping_mall\n",
        "ORDER BY total_revenue DESC\n",
        "\"\"\"\n",
        "mall_revenue = pd.read_sql_query(query, conn)\n",
        "print(mall_revenue)\n"
      ],
      "metadata": {
        "colab": {
          "base_uri": "https://localhost:8080/"
        },
        "id": "JGz8d32leh7r",
        "outputId": "cbb9ca61-9698-496b-b89a-fa24f87a3a31"
      },
      "execution_count": null,
      "outputs": [
        {
          "output_type": "stream",
          "name": "stdout",
          "text": [
            "       shopping_mall  total_revenue\n",
            "0   Mall of Istanbul   5.087248e+07\n",
            "1             Kanyon   5.055423e+07\n",
            "2          Metrocity   3.730279e+07\n",
            "3       Metropol AVM   2.537991e+07\n",
            "4       Istinye Park   2.461883e+07\n",
            "5       Zorlu Center   1.290105e+07\n",
            "6        Cevahir AVM   1.264514e+07\n",
            "7     Viaport Outlet   1.252134e+07\n",
            "8  Emaar Square Mall   1.240610e+07\n",
            "9     Forum Istanbul   1.230392e+07\n"
          ]
        }
      ]
    },
    {
      "cell_type": "code",
      "source": [
        "query = \"\"\"\n",
        "SELECT category, gender, SUM(price*quantity) AS total_revenue\n",
        "FROM customer_shopping_data\n",
        "GROUP BY category, gender\n",
        "ORDER BY category, total_revenue DESC\n",
        "\"\"\"\n",
        "gender_pref = pd.read_sql_query(query, conn)\n",
        "print(gender_pref)\n"
      ],
      "metadata": {
        "colab": {
          "base_uri": "https://localhost:8080/"
        },
        "id": "JZIEdyTRei4a",
        "outputId": "7740fa65-1c3f-4f49-adaa-4e0e600ce12f"
      },
      "execution_count": null,
      "outputs": [
        {
          "output_type": "stream",
          "name": "stdout",
          "text": [
            "           category  gender  total_revenue\n",
            "0             Books  Female   4.893147e+05\n",
            "1             Books    Male   3.452382e+05\n",
            "2          Clothing  Female   6.825170e+07\n",
            "3          Clothing    Male   4.574510e+07\n",
            "4         Cosmetics  Female   4.066773e+06\n",
            "5         Cosmetics    Male   2.726090e+06\n",
            "6   Food & Beverage  Female   5.053226e+05\n",
            "7   Food & Beverage    Male   3.442124e+05\n",
            "8             Shoes  Female   3.942517e+07\n",
            "9             Shoes    Male   2.712828e+07\n",
            "10         Souvenir  Female   3.828672e+05\n",
            "11         Souvenir    Male   2.529575e+05\n",
            "12       Technology  Female   3.466995e+07\n",
            "13       Technology    Male   2.319240e+07\n",
            "14             Toys  Female   2.416046e+06\n",
            "15             Toys    Male   1.564380e+06\n"
          ]
        }
      ]
    },
    {
      "cell_type": "code",
      "source": [
        "query = \"\"\"\n",
        "SELECT\n",
        "  CASE\n",
        "    WHEN price < 500 THEN 'Low'\n",
        "    WHEN price < 2000 THEN 'Medium'\n",
        "    ELSE 'High'\n",
        "  END AS price_tier,\n",
        "  category,\n",
        "  SUM(quantity) AS total_quantity,\n",
        "  SUM(price*quantity) AS total_revenue\n",
        "FROM customer_shopping_data\n",
        "GROUP BY price_tier, category\n",
        "ORDER BY price_tier, total_revenue DESC\n",
        "\"\"\"\n",
        "price_tier_analysis = pd.read_sql_query(query, conn)\n",
        "print(price_tier_analysis)\n"
      ],
      "metadata": {
        "colab": {
          "base_uri": "https://localhost:8080/"
        },
        "id": "A-BKKLv-ekBu",
        "outputId": "b02b82ee-1dbd-430b-8ce3-7228d73b66dd"
      },
      "execution_count": null,
      "outputs": [
        {
          "output_type": "stream",
          "name": "stdout",
          "text": [
            "   price_tier         category  total_quantity  total_revenue\n",
            "0        High       Technology           14036   5.682810e+07\n",
            "1        High            Shoes           18153   4.962026e+07\n",
            "2         Low        Cosmetics           45465   6.792863e+06\n",
            "3         Low             Toys           30321   3.980426e+06\n",
            "4         Low         Clothing            6841   2.052847e+06\n",
            "5         Low  Food & Beverage           44277   8.495351e+05\n",
            "6         Low            Books           14982   8.345529e+05\n",
            "7         Low         Souvenir           14871   6.358246e+05\n",
            "8      Medium         Clothing           96717   1.119439e+08\n",
            "9      Medium            Shoes           12064   1.693320e+07\n",
            "10     Medium       Technology             985   1.034250e+06\n"
          ]
        }
      ]
    },
    {
      "cell_type": "markdown",
      "source": [
        "Methodology / Steps Taken:\n",
        "**bold text**\n",
        "\n",
        "  1 -  Imported and cleaned the dataset using Python (handled missing data, formatted dates).\n",
        "\n",
        "2 - Calculated total revenue per transaction (price * quantity).\n",
        "\n",
        "3- Created product mappings:\n",
        "\n",
        "4- Category-wise segmentation\n",
        "\n",
        "5 - Price-tier segmentation (Low, Medium, High)\n",
        "\n",
        "6 - Gender-based purchase patterns\n",
        "\n",
        "7 - Shopping mall-based revenue segmentation\n",
        "\n",
        "8 - Loaded the cleaned dataset into SQLite to run queries:\n",
        "\n",
        "9 - Top-selling products by category\n",
        "\n",
        "10 - Revenue by payment method\n",
        "\n"
      ],
      "metadata": {
        "id": "Og8YZP95fs1v"
      }
    },
    {
      "cell_type": "markdown",
      "source": [
        "**Key Insights / Findings:**\n",
        "\n",
        "1 - Category Performance:\n",
        "\n",
        "*   Clothing and Shoes generate the highest total quantity sold.\n",
        "*   Books and Accessories have lower sales volume but consistent revenue per transaction\n",
        "\n",
        "2 - Payment Methods\n",
        "* Credit Card purchases contribute more to total revenue than Cash or Debit Card.\n",
        "3 - Customer Segmentation:\n",
        "* Top-spending customers are mostly in the 20–35 age group.\n",
        "* Gender influences product preferences: Clothing is more purchased by Females; Shoes have higher Male spending.\n",
        "\n",
        "4 - Shopping Mall Analysis:\n",
        "* Kanyon and Metropol AVM have the highest total revenue.\n",
        "* Smaller malls show niche product trends.\n",
        "\n",
        "5 - Price-Tier Analysis:\n",
        "* Medium-priced products drive the majority of revenue.\n",
        "* Low-priced items have high volume but lower revenue contribution.\n",
        "* High-priced products contribute less in quantity but significantly to total revenue.\n"
      ],
      "metadata": {
        "id": "-5DRERBqgNEa"
      }
    },
    {
      "cell_type": "markdown",
      "source": [
        "**Conclusion**\n",
        "\n",
        "* Successfully mapped products to categories and customer segments using Python and SQL, aligning with the Data Operations Analyst role at YipitData.\n",
        "\n",
        "* Insights help retail teams optimize product placement, pricing strategy, and targeted marketing.\n",
        "\n",
        "* Demonstrates ability to analyze consumer product data, apply SQL & Python, and produce actionable insights, which is exactly what the JD requires."
      ],
      "metadata": {
        "id": "JSpun2wchK9o"
      }
    }
  ]
}